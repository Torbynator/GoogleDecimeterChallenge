{
 "cells": [
  {
   "cell_type": "markdown",
   "metadata": {},
   "source": [
    "Notebook for the GoogleDecimeterChallenge https://www.kaggle.com/competitions/smartphone-decimeter-2023\n"
   ]
  },
  {
   "cell_type": "code",
   "execution_count": 3,
   "metadata": {},
   "outputs": [],
   "source": [
    "#reading data\n",
    "import numpy as np \n",
    "import pandas as pd\n",
    "from tqdm import tqdm, trange\n",
    "\n",
    "INPUT_PATH = 'sdc2023/'\n",
    "\n",
    "df_sample_trail_gnss = pd.read_csv(INPUT_PATH + \"train/2020-06-25-00-34-us-ca-mtv-sb-101/pixel4/device_gnss.csv\")\n",
    "df_sample_trail_gt = pd.read_csv(INPUT_PATH + \"train/2020-06-25-00-34-us-ca-mtv-sb-101/pixel4/ground_truth.csv\")\n",
    "sample_submission = pd.read_csv(INPUT_PATH + \"sample_submission.csv\")"
   ]
  }
 ],
 "metadata": {
  "kernelspec": {
   "display_name": ".venv",
   "language": "python",
   "name": "python3"
  },
  "language_info": {
   "codemirror_mode": {
    "name": "ipython",
    "version": 3
   },
   "file_extension": ".py",
   "mimetype": "text/x-python",
   "name": "python",
   "nbconvert_exporter": "python",
   "pygments_lexer": "ipython3",
   "version": "3.11.4"
  }
 },
 "nbformat": 4,
 "nbformat_minor": 2
}
