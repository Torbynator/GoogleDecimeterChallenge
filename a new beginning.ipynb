{
 "cells": [
  {
   "cell_type": "markdown",
   "metadata": {},
   "source": [
    "This notebook is a vewrsion of the original notebook. Instead of preparing the data by padding and masking smaller batches of time series of the trajectories are prepared and fed to the network"
   ]
  },
  {
   "cell_type": "markdown",
   "metadata": {},
   "source": [
    "Notebook for the GoogleDecimeterChallenge https://www.kaggle.com/competitions/smartphone-decimeter-2023\n"
   ]
  },
  {
   "cell_type": "markdown",
   "metadata": {},
   "source": [
    "Also try to run it on google collab, works great only RAM is limited:\n",
    "https://colab.research.google.com/github/Torbynator/GoogleDecimeterChallenge/blob/main/main.ipynb#scrollTo=TOn-Can4C0YP"
   ]
  },
  {
   "cell_type": "markdown",
   "metadata": {},
   "source": [
    "#Only for google collab\n",
    "from google.colab import drive\n",
    "drive.mount('/content/drive')\n",
    "!pip install  kaggle\n",
    "!mkdir -p ~/.kaggle\n",
    "!cp /content/drive/MyDrive/kaggle.json ~/.kaggle/\n",
    "!kaggle competitions download -c smartphone-decimeter-2023\n",
    "!unzip /content/smartphone-decimeter-2023.zip"
   ]
  },
  {
   "cell_type": "code",
   "execution_count": 1,
   "metadata": {},
   "outputs": [],
   "source": [
    "#reading data\n",
    "import numpy as np \n",
    "import pandas as pd\n",
    "from tqdm import tqdm, trange\n",
    "import math\n",
    "import os\n",
    "import tensorflow as tf\n",
    "import matplotlib.pyplot as plt\t\n",
    "\n",
    "INPUT_PATH = 'sdc2023/'\n",
    "\n"
   ]
  },
  {
   "cell_type": "code",
   "execution_count": 2,
   "metadata": {},
   "outputs": [],
   "source": [
    "\n",
    "\n",
    "# test_input_data = []\n",
    "# test_gt_data = []\n",
    "\n",
    "# #iterate over all data files and store them in the respective arrays\n",
    "\n",
    "# #load test data\n",
    "# test_files = os.listdir(INPUT_PATH + \"test\")\n",
    "\n",
    "# for folder in test_files:\n",
    "#     smartphones = os.listdir(INPUT_PATH + \"test/\"+folder)\n",
    "#     for smartphone in smartphones:\n",
    "#         file =  \"/device_gnss.csv\"\n",
    "#         #store data in list while dropping first and 41st column (string data)\n",
    "#         test_input_data.append(pd.read_csv(INPUT_PATH + \"test/\" +folder+\"/\"+smartphone + file, usecols=[i for i in range(58) if i not in [0,40]], dtype=np.float32).to_numpy(dtype=np.float32).tolist())\n"
   ]
  },
  {
   "cell_type": "code",
   "execution_count": 2,
   "metadata": {},
   "outputs": [
    {
     "name": "stdout",
     "output_type": "stream",
     "text": [
      "read in 1 samples\n"
     ]
    }
   ],
   "source": [
    "#load train data\n",
    "MAX_TRAJECTORIES = 1\n",
    "train_files = os.listdir(INPUT_PATH + \"train\")\n",
    "trajectory_count=0\n",
    "used_columns = [\"utcTimeMillis\",\"RawPseudorangeMeters\", \"RawPseudorangeUncertaintyMeters\" ,\"SvPositionXEcefMeters\" ,\"SvPositionYEcefMeters\", \"SvPositionZEcefMeters\", \"IsrbMeters\"]\n",
    "\n",
    "train_input_data = []\n",
    "train_gt_data = []\n",
    "\n",
    "for folder in train_files:\n",
    "    smartphones = os.listdir(INPUT_PATH + \"train/\"+folder)\n",
    "    for smartphone in smartphones:\n",
    "        files = os.listdir(INPUT_PATH + \"train/\"+folder+\"/\"+smartphone)\n",
    "        for file in files:\n",
    "            if file.endswith(\".csv\"):\n",
    "                if trajectory_count >= MAX_TRAJECTORIES:\n",
    "                    break   \n",
    "                if \"gnss\" in file:\n",
    "                    #store data in list while dropping first and 41st column (string data), as well as (porbably mostly) empty columns\n",
    "                    #also all data points with the same timestep are seen as features of one timestep of a sample\n",
    "                    train_input_data.append(pd.read_csv(INPUT_PATH + \"train/\" +folder+\"/\"+ smartphone+ \"/\" + file, usecols=used_columns, dtype=float).to_numpy(dtype=float).tolist())\n",
    "                    train_input_data = np.array(train_input_data)\n",
    "                    #correct PseudoRange with ISRB\n",
    "                    train_input_data[-1][:,1] = train_input_data[-1][:,1] + train_input_data[-1][:,6]\n",
    "                elif \"ground_truth\" in file:\n",
    "                    trajectory_count +=1\n",
    "                    #store data in list while dropping first and 2nd column (string data),(porbably mostly) empty columns\n",
    "                    train_gt_data.append(pd.read_csv(INPUT_PATH + \"train/\"+folder+\"/\" + smartphone+ \"/\" + file,  usecols=[i for i in range(9) if i not in [0,1]], dtype=float).to_numpy(dtype=float).tolist())\n",
    "                    print(f\"read in {trajectory_count} samples\")\n",
    "\n",
    "#delete IRSB column\n",
    "train_input_data = [sample[:,:6] for sample in train_input_data]\n",
    "\n",
    "#replace NaN values with 0\n",
    "train_input_data = [[[0 if math.isnan(x) else x for x in timestep] for timestep in sample ] for sample in train_input_data]"
   ]
  },
  {
   "cell_type": "code",
   "execution_count": 3,
   "metadata": {},
   "outputs": [
    {
     "name": "stdout",
     "output_type": "stream",
     "text": [
      "sample 0\n",
      "(1279, 20, 211)\n",
      "(1279, 20, 7)\n"
     ]
    }
   ],
   "source": [
    "TIME_SERIES_SIZE = 20\n",
    "import json\n",
    "\n",
    "with open(\"train_input_data.json\", \"w\") as f:\n",
    "    json.dump(train_input_data, f)\n",
    "\n",
    "#move all features with the same timestamp to one line \n",
    "for sample in range(len(train_input_data)):\n",
    "    matches = 0\n",
    "    print(f\"sample {sample}\")\n",
    "    timesteps = 0\n",
    "    for step in range(len(train_input_data[sample])):\n",
    "        if step != 0:\n",
    "            if train_input_data[sample][step-matches][0] == train_input_data[sample][step-1-matches][0]:\n",
    "                train_input_data[sample][step-1-matches].extend(train_input_data[sample][step-matches][1:])\n",
    "                train_input_data[sample].pop(step-matches)\n",
    "                matches +=1\n",
    "            else:\n",
    "                timesteps+=1\n",
    "\n",
    "\n",
    "with open(\"train_input_data_timestep_matched.json\", \"w\") as f:\n",
    "    json.dump(train_input_data, f)\n",
    "\n",
    "#prpare batches of time series of size TIME_SERIES_SIZE\n",
    "train_input_data_batched = [sample[i:i+TIME_SERIES_SIZE] for sample in train_input_data for i in range(0,len(sample)-TIME_SERIES_SIZE)]\n",
    "train_gt_data_batched = [sample[i:i+TIME_SERIES_SIZE] for sample in train_gt_data for i in range(0,len(sample)-TIME_SERIES_SIZE)]\n",
    "\n",
    "\n",
    "\n",
    "\n",
    "#pad input data\n",
    "max_features = max(max([len(feature) for sample in train_input_data_batched for feature in sample]),max([len(feature) for sample in train_gt_data_batched for feature in sample]))\n",
    "\n",
    "\n",
    "train_input_data_padded = [tf.keras.preprocessing.sequence.pad_sequences(sample,value=0, padding=\"post\", dtype=np.float64, maxlen=max_features) for sample in train_input_data_batched]\n",
    "train_input_data_padded = np.array(train_input_data_padded)\n",
    "\n",
    "\n",
    "\n",
    "del train_input_data, train_input_data_batched\n",
    "\n",
    "#pad ground truth data\n",
    "max_features_gt = max(len(feature) for sample in train_gt_data_batched for feature in sample)\n",
    "\n",
    "#convert to right data format\n",
    "train_gt_data_padded = [tf.keras.preprocessing.sequence.pad_sequences(sample, value=0,padding=\"post\", dtype=np.float64, maxlen=max_features_gt) for sample in train_gt_data_batched]\n",
    "train_gt_data_padded = np.array(train_gt_data_padded)\n",
    "del train_gt_data, train_gt_data_batched\n",
    "\n",
    "if(train_input_data_padded.shape[0] != train_gt_data_padded.shape[0]):\n",
    "    while train_input_data_padded.shape[0] > train_gt_data_padded.shape[0]:\n",
    "        train_input_data_padded = np.delete(train_input_data_padded, -1, axis=0)\n",
    "    while train_input_data_padded.shape[0] < train_gt_data_padded.shape[0]:\n",
    "        train_gt_data_padded = np.delete(train_gt_data_padded, -1, axis=0)\n",
    "\n",
    "print(train_input_data_padded.shape)\n",
    "print(train_gt_data_padded.shape)\n",
    "\n",
    "with open(\"train_input_data_padded.json\", \"w\") as f:\n",
    "    json.dump(train_input_data_padded.tolist(), f)"
   ]
  },
  {
   "cell_type": "code",
   "execution_count": 4,
   "metadata": {},
   "outputs": [],
   "source": [
    "import sklearn.preprocessing as preprocess\n",
    "\n",
    "#normalize data\n",
    "scaler = preprocess.MinMaxScaler()\n",
    "train_input_data_padded_normalized = []\n",
    "for sample in train_input_data_padded:\n",
    "    data_range = []\n",
    "    train_input_data_padded_normalized.append(scaler.fit_transform(sample))\n",
    "train_input_data_padded_normalized=np.array(train_input_data_padded_normalized)\n",
    "\n",
    "train_gt_data_padded_normalized = []\n",
    "for sample in train_gt_data_padded:\n",
    "    data_range = []\n",
    "    train_gt_data_padded_normalized.append(scaler.fit_transform(sample))\n",
    "train_gt_data_padded_normalized=np.array(train_gt_data_padded_normalized)\n",
    "\n",
    "with open(\"train_input_data_padded_normalized.json\", \"w\") as f:\n",
    "    json.dump(train_input_data_padded_normalized.tolist(), f)"
   ]
  },
  {
   "cell_type": "code",
   "execution_count": 5,
   "metadata": {},
   "outputs": [
    {
     "name": "stdout",
     "output_type": "stream",
     "text": [
      "WARNING:tensorflow:From d:\\OneDrive\\Documents\\Uni\\Machine Learning in Mechanics\\GoogleDecimeterChallenge\\.venv\\Lib\\site-packages\\keras\\src\\backend\\common\\global_state.py:82: The name tf.reset_default_graph is deprecated. Please use tf.compat.v1.reset_default_graph instead.\n",
      "\n"
     ]
    },
    {
     "name": "stderr",
     "output_type": "stream",
     "text": [
      "d:\\OneDrive\\Documents\\Uni\\Machine Learning in Mechanics\\GoogleDecimeterChallenge\\.venv\\Lib\\site-packages\\keras\\src\\layers\\core\\masking.py:47: UserWarning: Do not pass an `input_shape`/`input_dim` argument to a layer. When using Sequential models, prefer using an `Input(shape)` object as the first layer in the model instead.\n",
      "  super().__init__(**kwargs)\n"
     ]
    }
   ],
   "source": [
    "\n",
    "from tensorflow.keras.models import Sequential\n",
    "from tensorflow.keras.layers import LSTM, Dense, Masking\n",
    "from tensorflow.keras.backend import clear_session\n",
    "from tensorflow.keras.optimizers import Adam\n",
    "\n",
    "clear_session()\n",
    "\n",
    "\n",
    "\n",
    "#create model\n",
    "model = Sequential()\n",
    "model.add(Masking(mask_value=0, input_shape=(train_input_data_padded.shape[1], train_input_data_padded.shape[2])))\n",
    "#model.add(tf.keras.layers.BatchNormalization(axis=-1, input_shape=(train_input_data_padded.shape[1], train_input_data_padded.shape[2])))\n",
    "model.add(LSTM(50, return_sequences=True))\n",
    "model.add(LSTM(50, return_sequences=True))\n",
    "model.add(LSTM(30, return_sequences=True))\n",
    "model.add(Dense(7, activation=\"linear\"))\n",
    "\n",
    "\n",
    "\n",
    "model.compile(optimizer=Adam(1.0), loss=\"MeanSquaredError\")\n"
   ]
  },
  {
   "cell_type": "code",
   "execution_count": 27,
   "metadata": {},
   "outputs": [
    {
     "name": "stdout",
     "output_type": "stream",
     "text": [
      "(1279, 20, 211)\n",
      "(1279, 20, 7)\n",
      "\u001b[1m1/1\u001b[0m \u001b[32m━━━━━━━━━━━━━━━━━━━━\u001b[0m\u001b[37m\u001b[0m \u001b[1m0s\u001b[0m 288ms/step\n",
      "[[[ 5.64122247e-03  5.57063241e-03  2.99535051e-04 -1.31808314e-03\n",
      "   -2.47913355e-04 -3.83656472e-04 -1.34315877e-03]\n",
      "  [ 1.61369033e-02  1.57687888e-02  3.08237178e-03 -2.65736715e-03\n",
      "    9.82714235e-04 -1.20739290e-03 -4.92236624e-03]\n",
      "  [ 2.81948745e-02  2.78628506e-02  2.51677725e-03 -4.57118172e-03\n",
      "    3.34950816e-03 -6.14879699e-03 -9.93633270e-03]\n",
      "  [ 3.40098366e-02  3.65705900e-02 -2.83641927e-03 -8.88216496e-03\n",
      "    9.71503928e-03 -1.33001283e-02 -1.05753103e-02]\n",
      "  [ 3.68279591e-02  3.57402600e-02 -9.87520069e-03 -9.68968123e-03\n",
      "    1.55083071e-02 -2.25419514e-02 -6.84138807e-03]\n",
      "  [ 3.30308750e-02  2.58714296e-02 -1.16110677e-02 -8.44137557e-03\n",
      "    1.51674245e-02 -2.63018459e-02  2.57754978e-03]\n",
      "  [ 2.19376553e-02  1.07973497e-02 -6.86435774e-03 -6.90129958e-03\n",
      "    6.62491098e-03 -2.42781471e-02  1.49923172e-02]\n",
      "  [ 7.95444846e-03 -1.17382295e-02  2.83931149e-03 -3.17917345e-03\n",
      "   -5.37798088e-03 -1.96949281e-02  2.72216816e-02]\n",
      "  [-1.17510557e-04 -3.18799466e-02  1.05430624e-02  2.24514492e-03\n",
      "   -1.80485230e-02 -1.29194949e-02  3.62590514e-02]\n",
      "  [ 1.06907636e-03 -4.52637374e-02  1.52188037e-02  8.88271909e-03\n",
      "   -2.67928839e-02 -8.05405714e-03  3.88062000e-02]\n",
      "  [ 1.02307610e-02 -5.05827852e-02  1.55599024e-02  1.64818130e-02\n",
      "   -2.93650012e-02 -7.20551424e-03  3.44869494e-02]\n",
      "  [ 2.50303671e-02 -4.88380045e-02  1.27575202e-02  2.41053607e-02\n",
      "   -2.66936682e-02 -9.28733684e-03  2.55006477e-02]\n",
      "  [ 4.23941985e-02 -4.19435948e-02  8.41484312e-03  3.10657509e-02\n",
      "   -2.07141191e-02 -1.25897937e-02  1.35747232e-02]\n",
      "  [ 6.26882017e-02 -3.10075786e-02  4.06952016e-03  3.46636288e-02\n",
      "   -1.34659819e-02 -1.66561529e-02  2.83815712e-03]\n",
      "  [ 8.40309784e-02 -2.21151914e-02  7.92638771e-03  3.70548964e-02\n",
      "   -2.74076127e-03 -2.90139448e-02 -6.55207783e-03]\n",
      "  [ 1.03313416e-01 -1.18264593e-02  1.07596144e-02  3.95560004e-02\n",
      "    8.54654238e-03 -4.09913883e-02 -1.56655088e-02]\n",
      "  [ 1.19977541e-01 -5.77025756e-04  1.13048144e-02  4.20921519e-02\n",
      "    1.69695802e-02 -5.13907298e-02 -2.59789415e-02]\n",
      "  [ 1.33080557e-01  1.07170511e-02  9.93633270e-03  4.48994003e-02\n",
      "    2.25878507e-02 -5.94789535e-02 -3.69236767e-02]\n",
      "  [ 1.43472716e-01  2.32054908e-02  6.87332079e-03  4.62783203e-02\n",
      "    2.41512489e-02 -6.53065220e-02 -4.79806066e-02]\n",
      "  [ 1.51223883e-01  3.51617932e-02  1.72745064e-03  4.47398797e-02\n",
      "    2.60819867e-02 -6.76276237e-02 -5.78212067e-02]]]\n",
      "[[[1.91826522e-01 1.00000000e+00 5.82976712e-01 0.00000000e+00\n",
      "   0.00000000e+00 7.70634421e-02 0.00000000e+00]\n",
      "  [1.90992494e-01 1.00000000e+00 5.80764791e-01 4.33397266e-04\n",
      "   0.00000000e+00 7.70795939e-02 5.26315868e-02]\n",
      "  [1.85154295e-01 9.99561163e-01 5.54227168e-01 2.88680270e-02\n",
      "   0.00000000e+00 7.25618694e-02 1.05263159e-01]\n",
      "  [1.27606339e-01 9.94843664e-01 5.84388744e-01 9.65812494e-02\n",
      "   0.00000000e+00 0.00000000e+00 1.57894745e-01]\n",
      "  [3.66972477e-02 9.85353812e-01 6.24884287e-01 1.44671496e-01\n",
      "   0.00000000e+00 1.24573123e-02 2.10526317e-01]\n",
      "  [0.00000000e+00 9.69281404e-01 5.14931895e-01 1.88724441e-01\n",
      "   0.00000000e+00 3.09280232e-01 2.63157904e-01]\n",
      "  [8.42368640e-02 9.48875480e-01 6.38364871e-01 2.54047468e-01\n",
      "   0.00000000e+00 7.33001180e-01 3.15789476e-01]\n",
      "  [3.07756464e-01 9.23971476e-01 5.33211419e-01 3.80717819e-01\n",
      "   0.00000000e+00 1.00000000e+00 3.68421063e-01]\n",
      "  [5.99666389e-01 8.87273725e-01 3.51993992e-01 5.01599522e-01\n",
      "   0.00000000e+00 9.34387939e-01 4.21052635e-01]\n",
      "  [8.46538782e-01 8.37630280e-01 1.56896090e-01 5.80587326e-01\n",
      "   0.00000000e+00 7.60536373e-01 4.73684222e-01]\n",
      "  [9.69974979e-01 7.77180472e-01 0.00000000e+00 6.54385374e-01\n",
      "   0.00000000e+00 5.86912027e-01 5.26315793e-01]\n",
      "  [1.00000000e+00 7.09270433e-01 6.88644324e-02 7.19986039e-01\n",
      "   0.00000000e+00 5.12419602e-01 5.78947380e-01]\n",
      "  [9.85821518e-01 6.34832693e-01 2.80327058e-01 7.84523145e-01\n",
      "   0.00000000e+00 4.90143613e-01 6.31578952e-01]\n",
      "  [9.64970809e-01 5.54854635e-01 6.37667747e-01 8.35657812e-01\n",
      "   0.00000000e+00 4.93558085e-01 6.84210524e-01]\n",
      "  [9.56630525e-01 4.69336259e-01 8.80907247e-01 8.95833587e-01\n",
      "   0.00000000e+00 4.99745472e-01 7.36842111e-01]\n",
      "  [9.50792327e-01 3.78222710e-01 1.00000000e+00 9.38338331e-01\n",
      "   0.00000000e+00 5.02942578e-01 7.89473683e-01]\n",
      "  [9.46622185e-01 2.85682940e-01 8.79583017e-01 9.33109345e-01\n",
      "   0.00000000e+00 5.03942760e-01 8.42105269e-01]\n",
      "  [9.42452043e-01 1.93362589e-01 6.14923024e-01 9.45542344e-01\n",
      "   0.00000000e+00 5.02452274e-01 8.94736841e-01]\n",
      "  [9.34111760e-01 9.79155239e-02 4.21448977e-01 9.82946516e-01\n",
      "   0.00000000e+00 4.99616804e-01 9.47368428e-01]\n",
      "  [9.25771476e-01 0.00000000e+00 2.48355395e-01 1.00000000e+00\n",
      "   0.00000000e+00 5.01496578e-01 1.00000000e+00]]]\n"
     ]
    },
    {
     "data": {
      "text/html": [
       "<pre style=\"white-space:pre;overflow-x:auto;line-height:normal;font-family:Menlo,'DejaVu Sans Mono',consolas,'Courier New',monospace\"><span style=\"font-weight: bold\">Model: \"sequential\"</span>\n",
       "</pre>\n"
      ],
      "text/plain": [
       "\u001b[1mModel: \"sequential\"\u001b[0m\n"
      ]
     },
     "metadata": {},
     "output_type": "display_data"
    },
    {
     "data": {
      "text/html": [
       "<pre style=\"white-space:pre;overflow-x:auto;line-height:normal;font-family:Menlo,'DejaVu Sans Mono',consolas,'Courier New',monospace\">┏━━━━━━━━━━━━━━━━━━━━━━━━━━━━━━━━━┳━━━━━━━━━━━━━━━━━━━━━━━━┳━━━━━━━━━━━━━━━┓\n",
       "┃<span style=\"font-weight: bold\"> Layer (type)                    </span>┃<span style=\"font-weight: bold\"> Output Shape           </span>┃<span style=\"font-weight: bold\">       Param # </span>┃\n",
       "┡━━━━━━━━━━━━━━━━━━━━━━━━━━━━━━━━━╇━━━━━━━━━━━━━━━━━━━━━━━━╇━━━━━━━━━━━━━━━┩\n",
       "│ masking (<span style=\"color: #0087ff; text-decoration-color: #0087ff\">Masking</span>)               │ (<span style=\"color: #00d7ff; text-decoration-color: #00d7ff\">None</span>, <span style=\"color: #00af00; text-decoration-color: #00af00\">20</span>, <span style=\"color: #00af00; text-decoration-color: #00af00\">211</span>)        │             <span style=\"color: #00af00; text-decoration-color: #00af00\">0</span> │\n",
       "├─────────────────────────────────┼────────────────────────┼───────────────┤\n",
       "│ lstm (<span style=\"color: #0087ff; text-decoration-color: #0087ff\">LSTM</span>)                     │ (<span style=\"color: #00d7ff; text-decoration-color: #00d7ff\">None</span>, <span style=\"color: #00af00; text-decoration-color: #00af00\">20</span>, <span style=\"color: #00af00; text-decoration-color: #00af00\">50</span>)         │        <span style=\"color: #00af00; text-decoration-color: #00af00\">52,400</span> │\n",
       "├─────────────────────────────────┼────────────────────────┼───────────────┤\n",
       "│ lstm_1 (<span style=\"color: #0087ff; text-decoration-color: #0087ff\">LSTM</span>)                   │ (<span style=\"color: #00d7ff; text-decoration-color: #00d7ff\">None</span>, <span style=\"color: #00af00; text-decoration-color: #00af00\">20</span>, <span style=\"color: #00af00; text-decoration-color: #00af00\">50</span>)         │        <span style=\"color: #00af00; text-decoration-color: #00af00\">20,200</span> │\n",
       "├─────────────────────────────────┼────────────────────────┼───────────────┤\n",
       "│ lstm_2 (<span style=\"color: #0087ff; text-decoration-color: #0087ff\">LSTM</span>)                   │ (<span style=\"color: #00d7ff; text-decoration-color: #00d7ff\">None</span>, <span style=\"color: #00af00; text-decoration-color: #00af00\">20</span>, <span style=\"color: #00af00; text-decoration-color: #00af00\">30</span>)         │         <span style=\"color: #00af00; text-decoration-color: #00af00\">9,720</span> │\n",
       "├─────────────────────────────────┼────────────────────────┼───────────────┤\n",
       "│ dense (<span style=\"color: #0087ff; text-decoration-color: #0087ff\">Dense</span>)                   │ (<span style=\"color: #00d7ff; text-decoration-color: #00d7ff\">None</span>, <span style=\"color: #00af00; text-decoration-color: #00af00\">20</span>, <span style=\"color: #00af00; text-decoration-color: #00af00\">7</span>)          │           <span style=\"color: #00af00; text-decoration-color: #00af00\">217</span> │\n",
       "└─────────────────────────────────┴────────────────────────┴───────────────┘\n",
       "</pre>\n"
      ],
      "text/plain": [
       "┏━━━━━━━━━━━━━━━━━━━━━━━━━━━━━━━━━┳━━━━━━━━━━━━━━━━━━━━━━━━┳━━━━━━━━━━━━━━━┓\n",
       "┃\u001b[1m \u001b[0m\u001b[1mLayer (type)                   \u001b[0m\u001b[1m \u001b[0m┃\u001b[1m \u001b[0m\u001b[1mOutput Shape          \u001b[0m\u001b[1m \u001b[0m┃\u001b[1m \u001b[0m\u001b[1m      Param #\u001b[0m\u001b[1m \u001b[0m┃\n",
       "┡━━━━━━━━━━━━━━━━━━━━━━━━━━━━━━━━━╇━━━━━━━━━━━━━━━━━━━━━━━━╇━━━━━━━━━━━━━━━┩\n",
       "│ masking (\u001b[38;5;33mMasking\u001b[0m)               │ (\u001b[38;5;45mNone\u001b[0m, \u001b[38;5;34m20\u001b[0m, \u001b[38;5;34m211\u001b[0m)        │             \u001b[38;5;34m0\u001b[0m │\n",
       "├─────────────────────────────────┼────────────────────────┼───────────────┤\n",
       "│ lstm (\u001b[38;5;33mLSTM\u001b[0m)                     │ (\u001b[38;5;45mNone\u001b[0m, \u001b[38;5;34m20\u001b[0m, \u001b[38;5;34m50\u001b[0m)         │        \u001b[38;5;34m52,400\u001b[0m │\n",
       "├─────────────────────────────────┼────────────────────────┼───────────────┤\n",
       "│ lstm_1 (\u001b[38;5;33mLSTM\u001b[0m)                   │ (\u001b[38;5;45mNone\u001b[0m, \u001b[38;5;34m20\u001b[0m, \u001b[38;5;34m50\u001b[0m)         │        \u001b[38;5;34m20,200\u001b[0m │\n",
       "├─────────────────────────────────┼────────────────────────┼───────────────┤\n",
       "│ lstm_2 (\u001b[38;5;33mLSTM\u001b[0m)                   │ (\u001b[38;5;45mNone\u001b[0m, \u001b[38;5;34m20\u001b[0m, \u001b[38;5;34m30\u001b[0m)         │         \u001b[38;5;34m9,720\u001b[0m │\n",
       "├─────────────────────────────────┼────────────────────────┼───────────────┤\n",
       "│ dense (\u001b[38;5;33mDense\u001b[0m)                   │ (\u001b[38;5;45mNone\u001b[0m, \u001b[38;5;34m20\u001b[0m, \u001b[38;5;34m7\u001b[0m)          │           \u001b[38;5;34m217\u001b[0m │\n",
       "└─────────────────────────────────┴────────────────────────┴───────────────┘\n"
      ]
     },
     "metadata": {},
     "output_type": "display_data"
    },
    {
     "data": {
      "text/html": [
       "<pre style=\"white-space:pre;overflow-x:auto;line-height:normal;font-family:Menlo,'DejaVu Sans Mono',consolas,'Courier New',monospace\"><span style=\"font-weight: bold\"> Total params: </span><span style=\"color: #00af00; text-decoration-color: #00af00\">82,537</span> (322.41 KB)\n",
       "</pre>\n"
      ],
      "text/plain": [
       "\u001b[1m Total params: \u001b[0m\u001b[38;5;34m82,537\u001b[0m (322.41 KB)\n"
      ]
     },
     "metadata": {},
     "output_type": "display_data"
    },
    {
     "data": {
      "text/html": [
       "<pre style=\"white-space:pre;overflow-x:auto;line-height:normal;font-family:Menlo,'DejaVu Sans Mono',consolas,'Courier New',monospace\"><span style=\"font-weight: bold\"> Trainable params: </span><span style=\"color: #00af00; text-decoration-color: #00af00\">82,537</span> (322.41 KB)\n",
       "</pre>\n"
      ],
      "text/plain": [
       "\u001b[1m Trainable params: \u001b[0m\u001b[38;5;34m82,537\u001b[0m (322.41 KB)\n"
      ]
     },
     "metadata": {},
     "output_type": "display_data"
    },
    {
     "data": {
      "text/html": [
       "<pre style=\"white-space:pre;overflow-x:auto;line-height:normal;font-family:Menlo,'DejaVu Sans Mono',consolas,'Courier New',monospace\"><span style=\"font-weight: bold\"> Non-trainable params: </span><span style=\"color: #00af00; text-decoration-color: #00af00\">0</span> (0.00 B)\n",
       "</pre>\n"
      ],
      "text/plain": [
       "\u001b[1m Non-trainable params: \u001b[0m\u001b[38;5;34m0\u001b[0m (0.00 B)\n"
      ]
     },
     "metadata": {},
     "output_type": "display_data"
    },
    {
     "name": "stdout",
     "output_type": "stream",
     "text": [
      "None\n"
     ]
    }
   ],
   "source": [
    "\n",
    "print(train_input_data_padded_normalized.shape)\n",
    "print(train_gt_data_padded.shape)\n",
    "\n",
    "print(model.predict(train_input_data_padded_normalized[0:1]))\n",
    "print(train_gt_data_padded_normalized[0:1])\n",
    "print(model.summary())"
   ]
  },
  {
   "cell_type": "code",
   "execution_count": 6,
   "metadata": {},
   "outputs": [],
   "source": [
    "import matplotlib.pyplot as plt\n",
    "%matplotlib widget\n",
    "\n",
    "class TrainingPlot(tf.keras.callbacks.Callback):\n",
    "    def on_train_begin(self, logs={}):\n",
    "        self.losses = []\n",
    "        self.val_losses = []\n",
    "        self.fig, self.ax = plt.subplots()\n",
    "        self.line1, = self.ax.plot([], [], 'b', label='Training Loss')\n",
    "        self.line2, = self.ax.plot([], [], 'r', label='Validation Loss')\n",
    "        self.ax.set_xlabel('Epochs')\n",
    "        self.ax.set_ylabel('Loss')\n",
    "        self.ax.set_title('Training and Validation Loss')\n",
    "        self.ax.legend()\n",
    "        plt.ion()\n",
    "        plt.show(block=False)  # Show the plot immediately\n",
    "        plt.pause(0.001)  # Pause to allow the plot to be displayed\n",
    "\n",
    "    def on_epoch_end(self, epoch, logs={}):\n",
    "        self.losses.append(logs.get('loss'))\n",
    "        self.val_losses.append(logs.get('val_loss'))\n",
    "        self.line1.set_data(range(len(self.losses)), self.losses)\n",
    "        self.line2.set_data(range(len(self.val_losses)), self.val_losses)\n",
    "        self.ax.relim()\n",
    "        self.ax.autoscale_view()\n",
    "        self.fig.canvas.draw()\n",
    "        self.fig.canvas.flush_events()\n",
    "\n",
    "\n"
   ]
  },
  {
   "cell_type": "code",
   "execution_count": 7,
   "metadata": {},
   "outputs": [
    {
     "data": {
      "application/vnd.jupyter.widget-view+json": {
       "model_id": "5b55ab9f31224840b5762830e48244b5",
       "version_major": 2,
       "version_minor": 0
      },
      "image/png": "[encoded data removed]",
      "text/html": [
       "\n",
       "            <div style=\"display: inline-block;\">\n",
       "                <div class=\"jupyter-widgets widget-label\" style=\"text-align: center;\">\n",
       "                    Figure\n",
       "                </div>\n",
       "                <img src='data:image/png;base64,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' width=640.0/>\n",
       "            </div>\n",
       "        "
      ],
      "text/plain": [
       "Canvas(toolbar=Toolbar(toolitems=[('Home', 'Reset original view', 'home', 'home'), ('Back', 'Back to previous …"
      ]
     },
     "metadata": {},
     "output_type": "display_data"
    },
    {
     "data": {
      "application/vnd.jupyter.widget-view+json": {
       "model_id": "5b55ab9f31224840b5762830e48244b5",
       "version_major": 2,
       "version_minor": 0
      },
      "image/png": "[encoded data removed]",
      "text/html": [
       "\n",
       "            <div style=\"display: inline-block;\">\n",
       "                <div class=\"jupyter-widgets widget-label\" style=\"text-align: center;\">\n",
       "                    Figure\n",
       "                </div>\n",
       "                <img src='data:image/png;base64,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' width=640.0/>\n",
       "            </div>\n",
       "        "
      ],
      "text/plain": [
       "Canvas(toolbar=Toolbar(toolitems=[('Home', 'Reset original view', 'home', 'home'), ('Back', 'Back to previous …"
      ]
     },
     "metadata": {},
     "output_type": "display_data"
    },
    {
     "name": "stdout",
     "output_type": "stream",
     "text": [
      "Epoch 1/100\n",
      "\u001b[1m32/32\u001b[0m \u001b[32m━━━━━━━━━━━━━━━━━━━━\u001b[0m\u001b[37m\u001b[0m \u001b[1m4s\u001b[0m 26ms/step - loss: 37.3872 - val_loss: 2.0644\n",
      "Epoch 2/100\n",
      "\u001b[1m32/32\u001b[0m \u001b[32m━━━━━━━━━━━━━━━━━━━━\u001b[0m\u001b[37m\u001b[0m \u001b[1m1s\u001b[0m 16ms/step - loss: 1.1080 - val_loss: 0.1598\n",
      "Epoch 3/100\n",
      "\u001b[1m32/32\u001b[0m \u001b[32m━━━━━━━━━━━━━━━━━━━━\u001b[0m\u001b[37m\u001b[0m \u001b[1m1s\u001b[0m 16ms/step - loss: 0.1266 - val_loss: 0.0912\n",
      "Epoch 4/100\n",
      "\u001b[1m32/32\u001b[0m \u001b[32m━━━━━━━━━━━━━━━━━━━━\u001b[0m\u001b[37m\u001b[0m \u001b[1m1s\u001b[0m 16ms/step - loss: 0.0930 - val_loss: 0.0892\n",
      "Epoch 5/100\n",
      "\u001b[1m32/32\u001b[0m \u001b[32m━━━━━━━━━━━━━━━━━━━━\u001b[0m\u001b[37m\u001b[0m \u001b[1m1s\u001b[0m 16ms/step - loss: 0.0921 - val_loss: 0.0898\n",
      "Epoch 6/100\n",
      "\u001b[1m32/32\u001b[0m \u001b[32m━━━━━━━━━━━━━━━━━━━━\u001b[0m\u001b[37m\u001b[0m \u001b[1m1s\u001b[0m 16ms/step - loss: 0.0915 - val_loss: 0.0881\n",
      "Epoch 7/100\n",
      "\u001b[1m32/32\u001b[0m \u001b[32m━━━━━━━━━━━━━━━━━━━━\u001b[0m\u001b[37m\u001b[0m \u001b[1m1s\u001b[0m 16ms/step - loss: 0.0914 - val_loss: 0.0899\n",
      "Epoch 8/100\n",
      "\u001b[1m32/32\u001b[0m \u001b[32m━━━━━━━━━━━━━━━━━━━━\u001b[0m\u001b[37m\u001b[0m \u001b[1m1s\u001b[0m 16ms/step - loss: 0.0918 - val_loss: 0.0906\n",
      "Epoch 9/100\n",
      "\u001b[1m32/32\u001b[0m \u001b[32m━━━━━━━━━━━━━━━━━━━━\u001b[0m\u001b[37m\u001b[0m \u001b[1m1s\u001b[0m 16ms/step - loss: 0.0930 - val_loss: 0.0879\n",
      "Epoch 10/100\n",
      "\u001b[1m32/32\u001b[0m \u001b[32m━━━━━━━━━━━━━━━━━━━━\u001b[0m\u001b[37m\u001b[0m \u001b[1m1s\u001b[0m 16ms/step - loss: 0.0909 - val_loss: 0.0869\n",
      "Epoch 11/100\n",
      "\u001b[1m32/32\u001b[0m \u001b[32m━━━━━━━━━━━━━━━━━━━━\u001b[0m\u001b[37m\u001b[0m \u001b[1m1s\u001b[0m 16ms/step - loss: 0.0899 - val_loss: 0.0862\n",
      "Epoch 12/100\n",
      "\u001b[1m32/32\u001b[0m \u001b[32m━━━━━━━━━━━━━━━━━━━━\u001b[0m\u001b[37m\u001b[0m \u001b[1m1s\u001b[0m 16ms/step - loss: 0.0887 - val_loss: 0.0863\n",
      "Epoch 13/100\n",
      "\u001b[1m32/32\u001b[0m \u001b[32m━━━━━━━━━━━━━━━━━━━━\u001b[0m\u001b[37m\u001b[0m \u001b[1m1s\u001b[0m 16ms/step - loss: 0.0892 - val_loss: 0.0875\n",
      "Epoch 14/100\n",
      "\u001b[1m32/32\u001b[0m \u001b[32m━━━━━━━━━━━━━━━━━━━━\u001b[0m\u001b[37m\u001b[0m \u001b[1m1s\u001b[0m 16ms/step - loss: 0.0910 - val_loss: 0.0865\n",
      "Epoch 15/100\n",
      "\u001b[1m32/32\u001b[0m \u001b[32m━━━━━━━━━━━━━━━━━━━━\u001b[0m\u001b[37m\u001b[0m \u001b[1m1s\u001b[0m 17ms/step - loss: 0.0903 - val_loss: 0.0852\n",
      "Epoch 16/100\n",
      "\u001b[1m32/32\u001b[0m \u001b[32m━━━━━━━━━━━━━━━━━━━━\u001b[0m\u001b[37m\u001b[0m \u001b[1m1s\u001b[0m 16ms/step - loss: 0.0897 - val_loss: 0.0851\n",
      "Epoch 17/100\n",
      "\u001b[1m32/32\u001b[0m \u001b[32m━━━━━━━━━━━━━━━━━━━━\u001b[0m\u001b[37m\u001b[0m \u001b[1m1s\u001b[0m 16ms/step - loss: 0.0904 - val_loss: 0.0892\n",
      "Epoch 18/100\n",
      "\u001b[1m32/32\u001b[0m \u001b[32m━━━━━━━━━━━━━━━━━━━━\u001b[0m\u001b[37m\u001b[0m \u001b[1m1s\u001b[0m 16ms/step - loss: 0.0914 - val_loss: 0.0859\n",
      "Epoch 19/100\n",
      "\u001b[1m32/32\u001b[0m \u001b[32m━━━━━━━━━━━━━━━━━━━━\u001b[0m\u001b[37m\u001b[0m \u001b[1m1s\u001b[0m 16ms/step - loss: 0.0898 - val_loss: 0.0850\n",
      "Epoch 20/100\n",
      "\u001b[1m32/32\u001b[0m \u001b[32m━━━━━━━━━━━━━━━━━━━━\u001b[0m\u001b[37m\u001b[0m \u001b[1m1s\u001b[0m 16ms/step - loss: 0.0891 - val_loss: 0.0876\n",
      "Epoch 21/100\n",
      "\u001b[1m32/32\u001b[0m \u001b[32m━━━━━━━━━━━━━━━━━━━━\u001b[0m\u001b[37m\u001b[0m \u001b[1m1s\u001b[0m 16ms/step - loss: 0.0925 - val_loss: 0.0892\n",
      "Epoch 22/100\n",
      "\u001b[1m32/32\u001b[0m \u001b[32m━━━━━━━━━━━━━━━━━━━━\u001b[0m\u001b[37m\u001b[0m \u001b[1m1s\u001b[0m 16ms/step - loss: 0.0919 - val_loss: 0.0879\n",
      "Epoch 23/100\n",
      "\u001b[1m32/32\u001b[0m \u001b[32m━━━━━━━━━━━━━━━━━━━━\u001b[0m\u001b[37m\u001b[0m \u001b[1m1s\u001b[0m 16ms/step - loss: 0.0914 - val_loss: 0.0887\n",
      "Epoch 24/100\n",
      "\u001b[1m32/32\u001b[0m \u001b[32m━━━━━━━━━━━━━━━━━━━━\u001b[0m\u001b[37m\u001b[0m \u001b[1m1s\u001b[0m 16ms/step - loss: 0.0924 - val_loss: 0.0927\n",
      "Epoch 25/100\n",
      "\u001b[1m32/32\u001b[0m \u001b[32m━━━━━━━━━━━━━━━━━━━━\u001b[0m\u001b[37m\u001b[0m \u001b[1m1s\u001b[0m 16ms/step - loss: 0.0929 - val_loss: 0.0868\n",
      "Epoch 26/100\n",
      "\u001b[1m32/32\u001b[0m \u001b[32m━━━━━━━━━━━━━━━━━━━━\u001b[0m\u001b[37m\u001b[0m \u001b[1m1s\u001b[0m 17ms/step - loss: 0.0916 - val_loss: 0.0863\n",
      "Epoch 27/100\n",
      "\u001b[1m32/32\u001b[0m \u001b[32m━━━━━━━━━━━━━━━━━━━━\u001b[0m\u001b[37m\u001b[0m \u001b[1m1s\u001b[0m 17ms/step - loss: 0.0909 - val_loss: 0.0917\n",
      "Epoch 28/100\n",
      "\u001b[1m32/32\u001b[0m \u001b[32m━━━━━━━━━━━━━━━━━━━━\u001b[0m\u001b[37m\u001b[0m \u001b[1m1s\u001b[0m 16ms/step - loss: 0.0919 - val_loss: 0.0855\n",
      "Epoch 29/100\n",
      "\u001b[1m32/32\u001b[0m \u001b[32m━━━━━━━━━━━━━━━━━━━━\u001b[0m\u001b[37m\u001b[0m \u001b[1m1s\u001b[0m 16ms/step - loss: 0.0895 - val_loss: 0.0910\n",
      "Epoch 30/100\n",
      "\u001b[1m32/32\u001b[0m \u001b[32m━━━━━━━━━━━━━━━━━━━━\u001b[0m\u001b[37m\u001b[0m \u001b[1m1s\u001b[0m 16ms/step - loss: 0.0905 - val_loss: 0.0892\n",
      "Epoch 31/100\n",
      "\u001b[1m32/32\u001b[0m \u001b[32m━━━━━━━━━━━━━━━━━━━━\u001b[0m\u001b[37m\u001b[0m \u001b[1m1s\u001b[0m 16ms/step - loss: 0.0906 - val_loss: 0.0912\n",
      "Epoch 32/100\n",
      "\u001b[1m32/32\u001b[0m \u001b[32m━━━━━━━━━━━━━━━━━━━━\u001b[0m\u001b[37m\u001b[0m \u001b[1m1s\u001b[0m 16ms/step - loss: 0.0933 - val_loss: 0.0963\n",
      "Epoch 33/100\n",
      "\u001b[1m32/32\u001b[0m \u001b[32m━━━━━━━━━━━━━━━━━━━━\u001b[0m\u001b[37m\u001b[0m \u001b[1m1s\u001b[0m 15ms/step - loss: 0.0940 - val_loss: 0.0855\n",
      "Epoch 34/100\n",
      "\u001b[1m32/32\u001b[0m \u001b[32m━━━━━━━━━━━━━━━━━━━━\u001b[0m\u001b[37m\u001b[0m \u001b[1m1s\u001b[0m 16ms/step - loss: 0.0907 - val_loss: 0.0836\n",
      "Epoch 35/100\n",
      "\u001b[1m32/32\u001b[0m \u001b[32m━━━━━━━━━━━━━━━━━━━━\u001b[0m\u001b[37m\u001b[0m \u001b[1m1s\u001b[0m 16ms/step - loss: 0.0925 - val_loss: 0.0909\n",
      "Epoch 36/100\n",
      "\u001b[1m32/32\u001b[0m \u001b[32m━━━━━━━━━━━━━━━━━━━━\u001b[0m\u001b[37m\u001b[0m \u001b[1m1s\u001b[0m 17ms/step - loss: 0.0972 - val_loss: 0.0964\n",
      "Epoch 37/100\n",
      "\u001b[1m32/32\u001b[0m \u001b[32m━━━━━━━━━━━━━━━━━━━━\u001b[0m\u001b[37m\u001b[0m \u001b[1m1s\u001b[0m 16ms/step - loss: 0.1028 - val_loss: 0.0948\n",
      "Epoch 38/100\n",
      "\u001b[1m32/32\u001b[0m \u001b[32m━━━━━━━━━━━━━━━━━━━━\u001b[0m\u001b[37m\u001b[0m \u001b[1m1s\u001b[0m 16ms/step - loss: 0.0958 - val_loss: 0.0968\n",
      "Epoch 39/100\n",
      "\u001b[1m32/32\u001b[0m \u001b[32m━━━━━━━━━━━━━━━━━━━━\u001b[0m\u001b[37m\u001b[0m \u001b[1m1s\u001b[0m 16ms/step - loss: 0.0971 - val_loss: 0.0906\n",
      "Epoch 40/100\n",
      "\u001b[1m32/32\u001b[0m \u001b[32m━━━━━━━━━━━━━━━━━━━━\u001b[0m\u001b[37m\u001b[0m \u001b[1m1s\u001b[0m 17ms/step - loss: 0.0980 - val_loss: 0.0930\n",
      "Epoch 41/100\n",
      "\u001b[1m32/32\u001b[0m \u001b[32m━━━━━━━━━━━━━━━━━━━━\u001b[0m\u001b[37m\u001b[0m \u001b[1m1s\u001b[0m 16ms/step - loss: 0.0945 - val_loss: 0.1039\n",
      "Epoch 42/100\n",
      "\u001b[1m32/32\u001b[0m \u001b[32m━━━━━━━━━━━━━━━━━━━━\u001b[0m\u001b[37m\u001b[0m \u001b[1m1s\u001b[0m 16ms/step - loss: 0.1029 - val_loss: 0.1032\n",
      "Epoch 43/100\n",
      "\u001b[1m32/32\u001b[0m \u001b[32m━━━━━━━━━━━━━━━━━━━━\u001b[0m\u001b[37m\u001b[0m \u001b[1m1s\u001b[0m 16ms/step - loss: 0.1038 - val_loss: 0.1067\n",
      "Epoch 44/100\n",
      "\u001b[1m32/32\u001b[0m \u001b[32m━━━━━━━━━━━━━━━━━━━━\u001b[0m\u001b[37m\u001b[0m \u001b[1m1s\u001b[0m 16ms/step - loss: 0.1070 - val_loss: 0.1021\n",
      "Epoch 45/100\n",
      "\u001b[1m32/32\u001b[0m \u001b[32m━━━━━━━━━━━━━━━━━━━━\u001b[0m\u001b[37m\u001b[0m \u001b[1m1s\u001b[0m 16ms/step - loss: 0.0998 - val_loss: 0.0999\n",
      "Epoch 46/100\n",
      "\u001b[1m32/32\u001b[0m \u001b[32m━━━━━━━━━━━━━━━━━━━━\u001b[0m\u001b[37m\u001b[0m \u001b[1m1s\u001b[0m 16ms/step - loss: 0.0995 - val_loss: 0.0955\n",
      "Epoch 47/100\n",
      "\u001b[1m32/32\u001b[0m \u001b[32m━━━━━━━━━━━━━━━━━━━━\u001b[0m\u001b[37m\u001b[0m \u001b[1m1s\u001b[0m 16ms/step - loss: 0.1037 - val_loss: 0.1283\n",
      "Epoch 48/100\n",
      "\u001b[1m32/32\u001b[0m \u001b[32m━━━━━━━━━━━━━━━━━━━━\u001b[0m\u001b[37m\u001b[0m \u001b[1m1s\u001b[0m 16ms/step - loss: 0.1112 - val_loss: 0.0884\n",
      "Epoch 49/100\n",
      "\u001b[1m32/32\u001b[0m \u001b[32m━━━━━━━━━━━━━━━━━━━━\u001b[0m\u001b[37m\u001b[0m \u001b[1m1s\u001b[0m 16ms/step - loss: 0.0974 - val_loss: 0.1093\n",
      "Epoch 50/100\n",
      "\u001b[1m32/32\u001b[0m \u001b[32m━━━━━━━━━━━━━━━━━━━━\u001b[0m\u001b[37m\u001b[0m \u001b[1m1s\u001b[0m 16ms/step - loss: 0.1208 - val_loss: 0.1232\n",
      "Epoch 51/100\n",
      "\u001b[1m32/32\u001b[0m \u001b[32m━━━━━━━━━━━━━━━━━━━━\u001b[0m\u001b[37m\u001b[0m \u001b[1m1s\u001b[0m 16ms/step - loss: 0.1168 - val_loss: 0.1273\n",
      "Epoch 52/100\n",
      "\u001b[1m32/32\u001b[0m \u001b[32m━━━━━━━━━━━━━━━━━━━━\u001b[0m\u001b[37m\u001b[0m \u001b[1m1s\u001b[0m 16ms/step - loss: 0.1220 - val_loss: 0.0960\n",
      "Epoch 53/100\n",
      "\u001b[1m32/32\u001b[0m \u001b[32m━━━━━━━━━━━━━━━━━━━━\u001b[0m\u001b[37m\u001b[0m \u001b[1m1s\u001b[0m 16ms/step - loss: 0.1145 - val_loss: 0.1071\n",
      "Epoch 54/100\n",
      "\u001b[1m32/32\u001b[0m \u001b[32m━━━━━━━━━━━━━━━━━━━━\u001b[0m\u001b[37m\u001b[0m \u001b[1m1s\u001b[0m 16ms/step - loss: 0.1068 - val_loss: 0.1024\n",
      "Epoch 55/100\n",
      "\u001b[1m32/32\u001b[0m \u001b[32m━━━━━━━━━━━━━━━━━━━━\u001b[0m\u001b[37m\u001b[0m \u001b[1m1s\u001b[0m 16ms/step - loss: 0.1216 - val_loss: 0.1007\n",
      "Epoch 56/100\n",
      "\u001b[1m32/32\u001b[0m \u001b[32m━━━━━━━━━━━━━━━━━━━━\u001b[0m\u001b[37m\u001b[0m \u001b[1m1s\u001b[0m 17ms/step - loss: 0.1254 - val_loss: 0.1019\n",
      "Epoch 57/100\n",
      "\u001b[1m32/32\u001b[0m \u001b[32m━━━━━━━━━━━━━━━━━━━━\u001b[0m\u001b[37m\u001b[0m \u001b[1m1s\u001b[0m 16ms/step - loss: 0.1174 - val_loss: 0.1313\n",
      "Epoch 58/100\n",
      "\u001b[1m32/32\u001b[0m \u001b[32m━━━━━━━━━━━━━━━━━━━━\u001b[0m\u001b[37m\u001b[0m \u001b[1m1s\u001b[0m 15ms/step - loss: 0.1289 - val_loss: 0.1127\n",
      "Epoch 59/100\n",
      "\u001b[1m32/32\u001b[0m \u001b[32m━━━━━━━━━━━━━━━━━━━━\u001b[0m\u001b[37m\u001b[0m \u001b[1m1s\u001b[0m 16ms/step - loss: 0.1292 - val_loss: 0.1089\n",
      "Epoch 60/100\n",
      "\u001b[1m32/32\u001b[0m \u001b[32m━━━━━━━━━━━━━━━━━━━━\u001b[0m\u001b[37m\u001b[0m \u001b[1m1s\u001b[0m 16ms/step - loss: 0.1066 - val_loss: 0.0923\n",
      "Epoch 61/100\n",
      "\u001b[1m32/32\u001b[0m \u001b[32m━━━━━━━━━━━━━━━━━━━━\u001b[0m\u001b[37m\u001b[0m \u001b[1m1s\u001b[0m 16ms/step - loss: 0.1246 - val_loss: 0.1072\n",
      "Epoch 62/100\n",
      "\u001b[1m32/32\u001b[0m \u001b[32m━━━━━━━━━━━━━━━━━━━━\u001b[0m\u001b[37m\u001b[0m \u001b[1m1s\u001b[0m 16ms/step - loss: 0.1217 - val_loss: 0.1439\n",
      "Epoch 63/100\n",
      "\u001b[1m32/32\u001b[0m \u001b[32m━━━━━━━━━━━━━━━━━━━━\u001b[0m\u001b[37m\u001b[0m \u001b[1m1s\u001b[0m 16ms/step - loss: 0.1553 - val_loss: 0.1139\n",
      "Epoch 64/100\n",
      "\u001b[1m32/32\u001b[0m \u001b[32m━━━━━━━━━━━━━━━━━━━━\u001b[0m\u001b[37m\u001b[0m \u001b[1m1s\u001b[0m 16ms/step - loss: 0.1640 - val_loss: 0.1893\n",
      "Epoch 65/100\n",
      "\u001b[1m32/32\u001b[0m \u001b[32m━━━━━━━━━━━━━━━━━━━━\u001b[0m\u001b[37m\u001b[0m \u001b[1m1s\u001b[0m 16ms/step - loss: 0.2078 - val_loss: 0.1201\n",
      "Epoch 66/100\n",
      "\u001b[1m32/32\u001b[0m \u001b[32m━━━━━━━━━━━━━━━━━━━━\u001b[0m\u001b[37m\u001b[0m \u001b[1m1s\u001b[0m 15ms/step - loss: 0.1583 - val_loss: 0.1628\n",
      "Epoch 67/100\n",
      "\u001b[1m32/32\u001b[0m \u001b[32m━━━━━━━━━━━━━━━━━━━━\u001b[0m\u001b[37m\u001b[0m \u001b[1m1s\u001b[0m 15ms/step - loss: 0.1233 - val_loss: 0.1209\n",
      "Epoch 68/100\n",
      "\u001b[1m32/32\u001b[0m \u001b[32m━━━━━━━━━━━━━━━━━━━━\u001b[0m\u001b[37m\u001b[0m \u001b[1m1s\u001b[0m 16ms/step - loss: 0.1520 - val_loss: 0.3529\n",
      "Epoch 69/100\n",
      "\u001b[1m32/32\u001b[0m \u001b[32m━━━━━━━━━━━━━━━━━━━━\u001b[0m\u001b[37m\u001b[0m \u001b[1m1s\u001b[0m 16ms/step - loss: 0.2671 - val_loss: 0.1956\n",
      "Epoch 70/100\n",
      "\u001b[1m32/32\u001b[0m \u001b[32m━━━━━━━━━━━━━━━━━━━━\u001b[0m\u001b[37m\u001b[0m \u001b[1m1s\u001b[0m 16ms/step - loss: 0.1800 - val_loss: 0.1286\n",
      "Epoch 71/100\n",
      "\u001b[1m32/32\u001b[0m \u001b[32m━━━━━━━━━━━━━━━━━━━━\u001b[0m\u001b[37m\u001b[0m \u001b[1m1s\u001b[0m 16ms/step - loss: 0.1587 - val_loss: 0.7030\n",
      "Epoch 72/100\n",
      "\u001b[1m32/32\u001b[0m \u001b[32m━━━━━━━━━━━━━━━━━━━━\u001b[0m\u001b[37m\u001b[0m \u001b[1m1s\u001b[0m 16ms/step - loss: 0.4875 - val_loss: 0.1688\n",
      "Epoch 73/100\n",
      "\u001b[1m32/32\u001b[0m \u001b[32m━━━━━━━━━━━━━━━━━━━━\u001b[0m\u001b[37m\u001b[0m \u001b[1m1s\u001b[0m 16ms/step - loss: 0.1434 - val_loss: 0.2107\n",
      "Epoch 74/100\n",
      "\u001b[1m32/32\u001b[0m \u001b[32m━━━━━━━━━━━━━━━━━━━━\u001b[0m\u001b[37m\u001b[0m \u001b[1m1s\u001b[0m 16ms/step - loss: 0.1971 - val_loss: 0.1615\n",
      "Epoch 75/100\n",
      "\u001b[1m32/32\u001b[0m \u001b[32m━━━━━━━━━━━━━━━━━━━━\u001b[0m\u001b[37m\u001b[0m \u001b[1m1s\u001b[0m 16ms/step - loss: 0.2117 - val_loss: 0.1876\n",
      "Epoch 76/100\n",
      "\u001b[1m32/32\u001b[0m \u001b[32m━━━━━━━━━━━━━━━━━━━━\u001b[0m\u001b[37m\u001b[0m \u001b[1m1s\u001b[0m 16ms/step - loss: 0.1373 - val_loss: 0.1937\n",
      "Epoch 77/100\n",
      "\u001b[1m32/32\u001b[0m \u001b[32m━━━━━━━━━━━━━━━━━━━━\u001b[0m\u001b[37m\u001b[0m \u001b[1m1s\u001b[0m 16ms/step - loss: 0.1624 - val_loss: 0.1861\n",
      "Epoch 78/100\n",
      "\u001b[1m32/32\u001b[0m \u001b[32m━━━━━━━━━━━━━━━━━━━━\u001b[0m\u001b[37m\u001b[0m \u001b[1m1s\u001b[0m 16ms/step - loss: 0.1727 - val_loss: 0.2944\n",
      "Epoch 79/100\n",
      "\u001b[1m32/32\u001b[0m \u001b[32m━━━━━━━━━━━━━━━━━━━━\u001b[0m\u001b[37m\u001b[0m \u001b[1m1s\u001b[0m 16ms/step - loss: 0.4073 - val_loss: 0.1539\n",
      "Epoch 80/100\n",
      "\u001b[1m32/32\u001b[0m \u001b[32m━━━━━━━━━━━━━━━━━━━━\u001b[0m\u001b[37m\u001b[0m \u001b[1m1s\u001b[0m 16ms/step - loss: 0.1837 - val_loss: 0.2104\n",
      "Epoch 81/100\n",
      "\u001b[1m32/32\u001b[0m \u001b[32m━━━━━━━━━━━━━━━━━━━━\u001b[0m\u001b[37m\u001b[0m \u001b[1m1s\u001b[0m 16ms/step - loss: 0.1554 - val_loss: 0.1339\n",
      "Epoch 82/100\n",
      "\u001b[1m32/32\u001b[0m \u001b[32m━━━━━━━━━━━━━━━━━━━━\u001b[0m\u001b[37m\u001b[0m \u001b[1m1s\u001b[0m 16ms/step - loss: 0.1498 - val_loss: 0.1778\n",
      "Epoch 83/100\n",
      "\u001b[1m32/32\u001b[0m \u001b[32m━━━━━━━━━━━━━━━━━━━━\u001b[0m\u001b[37m\u001b[0m \u001b[1m1s\u001b[0m 15ms/step - loss: 0.2002 - val_loss: 0.3215\n",
      "Epoch 84/100\n",
      "\u001b[1m32/32\u001b[0m \u001b[32m━━━━━━━━━━━━━━━━━━━━\u001b[0m\u001b[37m\u001b[0m \u001b[1m1s\u001b[0m 16ms/step - loss: 0.2250 - val_loss: 0.1456\n",
      "Epoch 85/100\n",
      "\u001b[1m32/32\u001b[0m \u001b[32m━━━━━━━━━━━━━━━━━━━━\u001b[0m\u001b[37m\u001b[0m \u001b[1m1s\u001b[0m 15ms/step - loss: 0.1665 - val_loss: 0.0968\n",
      "Epoch 86/100\n",
      "\u001b[1m32/32\u001b[0m \u001b[32m━━━━━━━━━━━━━━━━━━━━\u001b[0m\u001b[37m\u001b[0m \u001b[1m1s\u001b[0m 15ms/step - loss: 0.1504 - val_loss: 0.3218\n",
      "Epoch 87/100\n",
      "\u001b[1m32/32\u001b[0m \u001b[32m━━━━━━━━━━━━━━━━━━━━\u001b[0m\u001b[37m\u001b[0m \u001b[1m1s\u001b[0m 15ms/step - loss: 0.2154 - val_loss: 0.1703\n",
      "Epoch 88/100\n",
      "\u001b[1m32/32\u001b[0m \u001b[32m━━━━━━━━━━━━━━━━━━━━\u001b[0m\u001b[37m\u001b[0m \u001b[1m1s\u001b[0m 16ms/step - loss: 0.1496 - val_loss: 0.1738\n",
      "Epoch 89/100\n",
      "\u001b[1m32/32\u001b[0m \u001b[32m━━━━━━━━━━━━━━━━━━━━\u001b[0m\u001b[37m\u001b[0m \u001b[1m1s\u001b[0m 16ms/step - loss: 0.1678 - val_loss: 0.6563\n",
      "Epoch 90/100\n",
      "\u001b[1m32/32\u001b[0m \u001b[32m━━━━━━━━━━━━━━━━━━━━\u001b[0m\u001b[37m\u001b[0m \u001b[1m1s\u001b[0m 16ms/step - loss: 0.3472 - val_loss: 0.1265\n",
      "Epoch 91/100\n",
      "\u001b[1m32/32\u001b[0m \u001b[32m━━━━━━━━━━━━━━━━━━━━\u001b[0m\u001b[37m\u001b[0m \u001b[1m0s\u001b[0m 15ms/step - loss: 0.1512 - val_loss: 0.1387\n",
      "Epoch 92/100\n",
      "\u001b[1m32/32\u001b[0m \u001b[32m━━━━━━━━━━━━━━━━━━━━\u001b[0m\u001b[37m\u001b[0m \u001b[1m1s\u001b[0m 15ms/step - loss: 0.1717 - val_loss: 0.1476\n",
      "Epoch 93/100\n",
      "\u001b[1m17/32\u001b[0m \u001b[32m━━━━━━━━━━\u001b[0m\u001b[37m━━━━━━━━━━\u001b[0m \u001b[1m0s\u001b[0m 14ms/step - loss: 0.1787"
     ]
    },
    {
     "ename": "KeyboardInterrupt",
     "evalue": "",
     "output_type": "error",
     "traceback": [
      "\u001b[1;31m---------------------------------------------------------------------------\u001b[0m",
      "\u001b[1;31mKeyboardInterrupt\u001b[0m                         Traceback (most recent call last)",
      "Cell \u001b[1;32mIn[7], line 2\u001b[0m\n\u001b[0;32m      1\u001b[0m \u001b[38;5;66;03m# train the model\u001b[39;00m\n\u001b[1;32m----> 2\u001b[0m history \u001b[38;5;241m=\u001b[39m \u001b[43mmodel\u001b[49m\u001b[38;5;241;43m.\u001b[39;49m\u001b[43mfit\u001b[49m\u001b[43m(\u001b[49m\u001b[43mtrain_input_data_padded_normalized\u001b[49m\u001b[43m,\u001b[49m\u001b[43m \u001b[49m\u001b[43mtrain_gt_data_padded_normalized\u001b[49m\u001b[43m,\u001b[49m\u001b[43m \u001b[49m\u001b[43mepochs\u001b[49m\u001b[38;5;241;43m=\u001b[39;49m\u001b[38;5;241;43m100\u001b[39;49m\u001b[43m,\u001b[49m\u001b[43m \u001b[49m\u001b[43mbatch_size\u001b[49m\u001b[38;5;241;43m=\u001b[39;49m\u001b[38;5;241;43m32\u001b[39;49m\u001b[43m,\u001b[49m\u001b[43m \u001b[49m\u001b[43mvalidation_split\u001b[49m\u001b[38;5;241;43m=\u001b[39;49m\u001b[38;5;241;43m0.2\u001b[39;49m\u001b[43m,\u001b[49m\u001b[43m \u001b[49m\u001b[43mcallbacks\u001b[49m\u001b[38;5;241;43m=\u001b[39;49m\u001b[43m[\u001b[49m\u001b[43mTrainingPlot\u001b[49m\u001b[43m(\u001b[49m\u001b[43m)\u001b[49m\u001b[43m]\u001b[49m\u001b[43m)\u001b[49m\n",
      "File \u001b[1;32md:\\OneDrive\\Documents\\Uni\\Machine Learning in Mechanics\\GoogleDecimeterChallenge\\.venv\\Lib\\site-packages\\keras\\src\\utils\\traceback_utils.py:117\u001b[0m, in \u001b[0;36mfilter_traceback.<locals>.error_handler\u001b[1;34m(*args, **kwargs)\u001b[0m\n\u001b[0;32m    115\u001b[0m filtered_tb \u001b[38;5;241m=\u001b[39m \u001b[38;5;28;01mNone\u001b[39;00m\n\u001b[0;32m    116\u001b[0m \u001b[38;5;28;01mtry\u001b[39;00m:\n\u001b[1;32m--> 117\u001b[0m     \u001b[38;5;28;01mreturn\u001b[39;00m \u001b[43mfn\u001b[49m\u001b[43m(\u001b[49m\u001b[38;5;241;43m*\u001b[39;49m\u001b[43margs\u001b[49m\u001b[43m,\u001b[49m\u001b[43m \u001b[49m\u001b[38;5;241;43m*\u001b[39;49m\u001b[38;5;241;43m*\u001b[39;49m\u001b[43mkwargs\u001b[49m\u001b[43m)\u001b[49m\n\u001b[0;32m    118\u001b[0m \u001b[38;5;28;01mexcept\u001b[39;00m \u001b[38;5;167;01mException\u001b[39;00m \u001b[38;5;28;01mas\u001b[39;00m e:\n\u001b[0;32m    119\u001b[0m     filtered_tb \u001b[38;5;241m=\u001b[39m _process_traceback_frames(e\u001b[38;5;241m.\u001b[39m__traceback__)\n",
      "File \u001b[1;32md:\\OneDrive\\Documents\\Uni\\Machine Learning in Mechanics\\GoogleDecimeterChallenge\\.venv\\Lib\\site-packages\\keras\\src\\backend\\tensorflow\\trainer.py:318\u001b[0m, in \u001b[0;36mTensorFlowTrainer.fit\u001b[1;34m(self, x, y, batch_size, epochs, verbose, callbacks, validation_split, validation_data, shuffle, class_weight, sample_weight, initial_epoch, steps_per_epoch, validation_steps, validation_batch_size, validation_freq)\u001b[0m\n\u001b[0;32m    316\u001b[0m \u001b[38;5;28;01mfor\u001b[39;00m step, iterator \u001b[38;5;129;01min\u001b[39;00m epoch_iterator\u001b[38;5;241m.\u001b[39menumerate_epoch():\n\u001b[0;32m    317\u001b[0m     callbacks\u001b[38;5;241m.\u001b[39mon_train_batch_begin(step)\n\u001b[1;32m--> 318\u001b[0m     logs \u001b[38;5;241m=\u001b[39m \u001b[38;5;28;43mself\u001b[39;49m\u001b[38;5;241;43m.\u001b[39;49m\u001b[43mtrain_function\u001b[49m\u001b[43m(\u001b[49m\u001b[43miterator\u001b[49m\u001b[43m)\u001b[49m\n\u001b[0;32m    319\u001b[0m     logs \u001b[38;5;241m=\u001b[39m \u001b[38;5;28mself\u001b[39m\u001b[38;5;241m.\u001b[39m_pythonify_logs(logs)\n\u001b[0;32m    320\u001b[0m     callbacks\u001b[38;5;241m.\u001b[39mon_train_batch_end(step, logs)\n",
      "File \u001b[1;32md:\\OneDrive\\Documents\\Uni\\Machine Learning in Mechanics\\GoogleDecimeterChallenge\\.venv\\Lib\\site-packages\\tensorflow\\python\\util\\traceback_utils.py:150\u001b[0m, in \u001b[0;36mfilter_traceback.<locals>.error_handler\u001b[1;34m(*args, **kwargs)\u001b[0m\n\u001b[0;32m    148\u001b[0m filtered_tb \u001b[38;5;241m=\u001b[39m \u001b[38;5;28;01mNone\u001b[39;00m\n\u001b[0;32m    149\u001b[0m \u001b[38;5;28;01mtry\u001b[39;00m:\n\u001b[1;32m--> 150\u001b[0m   \u001b[38;5;28;01mreturn\u001b[39;00m \u001b[43mfn\u001b[49m\u001b[43m(\u001b[49m\u001b[38;5;241;43m*\u001b[39;49m\u001b[43margs\u001b[49m\u001b[43m,\u001b[49m\u001b[43m \u001b[49m\u001b[38;5;241;43m*\u001b[39;49m\u001b[38;5;241;43m*\u001b[39;49m\u001b[43mkwargs\u001b[49m\u001b[43m)\u001b[49m\n\u001b[0;32m    151\u001b[0m \u001b[38;5;28;01mexcept\u001b[39;00m \u001b[38;5;167;01mException\u001b[39;00m \u001b[38;5;28;01mas\u001b[39;00m e:\n\u001b[0;32m    152\u001b[0m   filtered_tb \u001b[38;5;241m=\u001b[39m _process_traceback_frames(e\u001b[38;5;241m.\u001b[39m__traceback__)\n",
      "File \u001b[1;32md:\\OneDrive\\Documents\\Uni\\Machine Learning in Mechanics\\GoogleDecimeterChallenge\\.venv\\Lib\\site-packages\\tensorflow\\python\\eager\\polymorphic_function\\polymorphic_function.py:833\u001b[0m, in \u001b[0;36mFunction.__call__\u001b[1;34m(self, *args, **kwds)\u001b[0m\n\u001b[0;32m    830\u001b[0m compiler \u001b[38;5;241m=\u001b[39m \u001b[38;5;124m\"\u001b[39m\u001b[38;5;124mxla\u001b[39m\u001b[38;5;124m\"\u001b[39m \u001b[38;5;28;01mif\u001b[39;00m \u001b[38;5;28mself\u001b[39m\u001b[38;5;241m.\u001b[39m_jit_compile \u001b[38;5;28;01melse\u001b[39;00m \u001b[38;5;124m\"\u001b[39m\u001b[38;5;124mnonXla\u001b[39m\u001b[38;5;124m\"\u001b[39m\n\u001b[0;32m    832\u001b[0m \u001b[38;5;28;01mwith\u001b[39;00m OptionalXlaContext(\u001b[38;5;28mself\u001b[39m\u001b[38;5;241m.\u001b[39m_jit_compile):\n\u001b[1;32m--> 833\u001b[0m   result \u001b[38;5;241m=\u001b[39m \u001b[38;5;28;43mself\u001b[39;49m\u001b[38;5;241;43m.\u001b[39;49m\u001b[43m_call\u001b[49m\u001b[43m(\u001b[49m\u001b[38;5;241;43m*\u001b[39;49m\u001b[43margs\u001b[49m\u001b[43m,\u001b[49m\u001b[43m \u001b[49m\u001b[38;5;241;43m*\u001b[39;49m\u001b[38;5;241;43m*\u001b[39;49m\u001b[43mkwds\u001b[49m\u001b[43m)\u001b[49m\n\u001b[0;32m    835\u001b[0m new_tracing_count \u001b[38;5;241m=\u001b[39m \u001b[38;5;28mself\u001b[39m\u001b[38;5;241m.\u001b[39mexperimental_get_tracing_count()\n\u001b[0;32m    836\u001b[0m without_tracing \u001b[38;5;241m=\u001b[39m (tracing_count \u001b[38;5;241m==\u001b[39m new_tracing_count)\n",
      "File \u001b[1;32md:\\OneDrive\\Documents\\Uni\\Machine Learning in Mechanics\\GoogleDecimeterChallenge\\.venv\\Lib\\site-packages\\tensorflow\\python\\eager\\polymorphic_function\\polymorphic_function.py:878\u001b[0m, in \u001b[0;36mFunction._call\u001b[1;34m(self, *args, **kwds)\u001b[0m\n\u001b[0;32m    875\u001b[0m \u001b[38;5;28mself\u001b[39m\u001b[38;5;241m.\u001b[39m_lock\u001b[38;5;241m.\u001b[39mrelease()\n\u001b[0;32m    876\u001b[0m \u001b[38;5;66;03m# In this case we have not created variables on the first call. So we can\u001b[39;00m\n\u001b[0;32m    877\u001b[0m \u001b[38;5;66;03m# run the first trace but we should fail if variables are created.\u001b[39;00m\n\u001b[1;32m--> 878\u001b[0m results \u001b[38;5;241m=\u001b[39m \u001b[43mtracing_compilation\u001b[49m\u001b[38;5;241;43m.\u001b[39;49m\u001b[43mcall_function\u001b[49m\u001b[43m(\u001b[49m\n\u001b[0;32m    879\u001b[0m \u001b[43m    \u001b[49m\u001b[43margs\u001b[49m\u001b[43m,\u001b[49m\u001b[43m \u001b[49m\u001b[43mkwds\u001b[49m\u001b[43m,\u001b[49m\u001b[43m \u001b[49m\u001b[38;5;28;43mself\u001b[39;49m\u001b[38;5;241;43m.\u001b[39;49m\u001b[43m_variable_creation_config\u001b[49m\n\u001b[0;32m    880\u001b[0m \u001b[43m\u001b[49m\u001b[43m)\u001b[49m\n\u001b[0;32m    881\u001b[0m \u001b[38;5;28;01mif\u001b[39;00m \u001b[38;5;28mself\u001b[39m\u001b[38;5;241m.\u001b[39m_created_variables:\n\u001b[0;32m    882\u001b[0m   \u001b[38;5;28;01mraise\u001b[39;00m \u001b[38;5;167;01mValueError\u001b[39;00m(\u001b[38;5;124m\"\u001b[39m\u001b[38;5;124mCreating variables on a non-first call to a function\u001b[39m\u001b[38;5;124m\"\u001b[39m\n\u001b[0;32m    883\u001b[0m                    \u001b[38;5;124m\"\u001b[39m\u001b[38;5;124m decorated with tf.function.\u001b[39m\u001b[38;5;124m\"\u001b[39m)\n",
      "File \u001b[1;32md:\\OneDrive\\Documents\\Uni\\Machine Learning in Mechanics\\GoogleDecimeterChallenge\\.venv\\Lib\\site-packages\\tensorflow\\python\\eager\\polymorphic_function\\tracing_compilation.py:139\u001b[0m, in \u001b[0;36mcall_function\u001b[1;34m(args, kwargs, tracing_options)\u001b[0m\n\u001b[0;32m    137\u001b[0m bound_args \u001b[38;5;241m=\u001b[39m function\u001b[38;5;241m.\u001b[39mfunction_type\u001b[38;5;241m.\u001b[39mbind(\u001b[38;5;241m*\u001b[39margs, \u001b[38;5;241m*\u001b[39m\u001b[38;5;241m*\u001b[39mkwargs)\n\u001b[0;32m    138\u001b[0m flat_inputs \u001b[38;5;241m=\u001b[39m function\u001b[38;5;241m.\u001b[39mfunction_type\u001b[38;5;241m.\u001b[39munpack_inputs(bound_args)\n\u001b[1;32m--> 139\u001b[0m \u001b[38;5;28;01mreturn\u001b[39;00m \u001b[43mfunction\u001b[49m\u001b[38;5;241;43m.\u001b[39;49m\u001b[43m_call_flat\u001b[49m\u001b[43m(\u001b[49m\u001b[43m  \u001b[49m\u001b[38;5;66;43;03m# pylint: disable=protected-access\u001b[39;49;00m\n\u001b[0;32m    140\u001b[0m \u001b[43m    \u001b[49m\u001b[43mflat_inputs\u001b[49m\u001b[43m,\u001b[49m\u001b[43m \u001b[49m\u001b[43mcaptured_inputs\u001b[49m\u001b[38;5;241;43m=\u001b[39;49m\u001b[43mfunction\u001b[49m\u001b[38;5;241;43m.\u001b[39;49m\u001b[43mcaptured_inputs\u001b[49m\n\u001b[0;32m    141\u001b[0m \u001b[43m\u001b[49m\u001b[43m)\u001b[49m\n",
      "File \u001b[1;32md:\\OneDrive\\Documents\\Uni\\Machine Learning in Mechanics\\GoogleDecimeterChallenge\\.venv\\Lib\\site-packages\\tensorflow\\python\\eager\\polymorphic_function\\concrete_function.py:1322\u001b[0m, in \u001b[0;36mConcreteFunction._call_flat\u001b[1;34m(self, tensor_inputs, captured_inputs)\u001b[0m\n\u001b[0;32m   1318\u001b[0m possible_gradient_type \u001b[38;5;241m=\u001b[39m gradients_util\u001b[38;5;241m.\u001b[39mPossibleTapeGradientTypes(args)\n\u001b[0;32m   1319\u001b[0m \u001b[38;5;28;01mif\u001b[39;00m (possible_gradient_type \u001b[38;5;241m==\u001b[39m gradients_util\u001b[38;5;241m.\u001b[39mPOSSIBLE_GRADIENT_TYPES_NONE\n\u001b[0;32m   1320\u001b[0m     \u001b[38;5;129;01mand\u001b[39;00m executing_eagerly):\n\u001b[0;32m   1321\u001b[0m   \u001b[38;5;66;03m# No tape is watching; skip to running the function.\u001b[39;00m\n\u001b[1;32m-> 1322\u001b[0m   \u001b[38;5;28;01mreturn\u001b[39;00m \u001b[38;5;28;43mself\u001b[39;49m\u001b[38;5;241;43m.\u001b[39;49m\u001b[43m_inference_function\u001b[49m\u001b[38;5;241;43m.\u001b[39;49m\u001b[43mcall_preflattened\u001b[49m\u001b[43m(\u001b[49m\u001b[43margs\u001b[49m\u001b[43m)\u001b[49m\n\u001b[0;32m   1323\u001b[0m forward_backward \u001b[38;5;241m=\u001b[39m \u001b[38;5;28mself\u001b[39m\u001b[38;5;241m.\u001b[39m_select_forward_and_backward_functions(\n\u001b[0;32m   1324\u001b[0m     args,\n\u001b[0;32m   1325\u001b[0m     possible_gradient_type,\n\u001b[0;32m   1326\u001b[0m     executing_eagerly)\n\u001b[0;32m   1327\u001b[0m forward_function, args_with_tangents \u001b[38;5;241m=\u001b[39m forward_backward\u001b[38;5;241m.\u001b[39mforward()\n",
      "File \u001b[1;32md:\\OneDrive\\Documents\\Uni\\Machine Learning in Mechanics\\GoogleDecimeterChallenge\\.venv\\Lib\\site-packages\\tensorflow\\python\\eager\\polymorphic_function\\atomic_function.py:216\u001b[0m, in \u001b[0;36mAtomicFunction.call_preflattened\u001b[1;34m(self, args)\u001b[0m\n\u001b[0;32m    214\u001b[0m \u001b[38;5;28;01mdef\u001b[39;00m \u001b[38;5;21mcall_preflattened\u001b[39m(\u001b[38;5;28mself\u001b[39m, args: Sequence[core\u001b[38;5;241m.\u001b[39mTensor]) \u001b[38;5;241m-\u001b[39m\u001b[38;5;241m>\u001b[39m Any:\n\u001b[0;32m    215\u001b[0m \u001b[38;5;250m  \u001b[39m\u001b[38;5;124;03m\"\"\"Calls with flattened tensor inputs and returns the structured output.\"\"\"\u001b[39;00m\n\u001b[1;32m--> 216\u001b[0m   flat_outputs \u001b[38;5;241m=\u001b[39m \u001b[38;5;28;43mself\u001b[39;49m\u001b[38;5;241;43m.\u001b[39;49m\u001b[43mcall_flat\u001b[49m\u001b[43m(\u001b[49m\u001b[38;5;241;43m*\u001b[39;49m\u001b[43margs\u001b[49m\u001b[43m)\u001b[49m\n\u001b[0;32m    217\u001b[0m   \u001b[38;5;28;01mreturn\u001b[39;00m \u001b[38;5;28mself\u001b[39m\u001b[38;5;241m.\u001b[39mfunction_type\u001b[38;5;241m.\u001b[39mpack_output(flat_outputs)\n",
      "File \u001b[1;32md:\\OneDrive\\Documents\\Uni\\Machine Learning in Mechanics\\GoogleDecimeterChallenge\\.venv\\Lib\\site-packages\\tensorflow\\python\\eager\\polymorphic_function\\atomic_function.py:251\u001b[0m, in \u001b[0;36mAtomicFunction.call_flat\u001b[1;34m(self, *args)\u001b[0m\n\u001b[0;32m    249\u001b[0m \u001b[38;5;28;01mwith\u001b[39;00m record\u001b[38;5;241m.\u001b[39mstop_recording():\n\u001b[0;32m    250\u001b[0m   \u001b[38;5;28;01mif\u001b[39;00m \u001b[38;5;28mself\u001b[39m\u001b[38;5;241m.\u001b[39m_bound_context\u001b[38;5;241m.\u001b[39mexecuting_eagerly():\n\u001b[1;32m--> 251\u001b[0m     outputs \u001b[38;5;241m=\u001b[39m \u001b[38;5;28;43mself\u001b[39;49m\u001b[38;5;241;43m.\u001b[39;49m\u001b[43m_bound_context\u001b[49m\u001b[38;5;241;43m.\u001b[39;49m\u001b[43mcall_function\u001b[49m\u001b[43m(\u001b[49m\n\u001b[0;32m    252\u001b[0m \u001b[43m        \u001b[49m\u001b[38;5;28;43mself\u001b[39;49m\u001b[38;5;241;43m.\u001b[39;49m\u001b[43mname\u001b[49m\u001b[43m,\u001b[49m\n\u001b[0;32m    253\u001b[0m \u001b[43m        \u001b[49m\u001b[38;5;28;43mlist\u001b[39;49m\u001b[43m(\u001b[49m\u001b[43margs\u001b[49m\u001b[43m)\u001b[49m\u001b[43m,\u001b[49m\n\u001b[0;32m    254\u001b[0m \u001b[43m        \u001b[49m\u001b[38;5;28;43mlen\u001b[39;49m\u001b[43m(\u001b[49m\u001b[38;5;28;43mself\u001b[39;49m\u001b[38;5;241;43m.\u001b[39;49m\u001b[43mfunction_type\u001b[49m\u001b[38;5;241;43m.\u001b[39;49m\u001b[43mflat_outputs\u001b[49m\u001b[43m)\u001b[49m\u001b[43m,\u001b[49m\n\u001b[0;32m    255\u001b[0m \u001b[43m    \u001b[49m\u001b[43m)\u001b[49m\n\u001b[0;32m    256\u001b[0m   \u001b[38;5;28;01melse\u001b[39;00m:\n\u001b[0;32m    257\u001b[0m     outputs \u001b[38;5;241m=\u001b[39m make_call_op_in_graph(\n\u001b[0;32m    258\u001b[0m         \u001b[38;5;28mself\u001b[39m,\n\u001b[0;32m    259\u001b[0m         \u001b[38;5;28mlist\u001b[39m(args),\n\u001b[0;32m    260\u001b[0m         \u001b[38;5;28mself\u001b[39m\u001b[38;5;241m.\u001b[39m_bound_context\u001b[38;5;241m.\u001b[39mfunction_call_options\u001b[38;5;241m.\u001b[39mas_attrs(),\n\u001b[0;32m    261\u001b[0m     )\n",
      "File \u001b[1;32md:\\OneDrive\\Documents\\Uni\\Machine Learning in Mechanics\\GoogleDecimeterChallenge\\.venv\\Lib\\site-packages\\tensorflow\\python\\eager\\context.py:1500\u001b[0m, in \u001b[0;36mContext.call_function\u001b[1;34m(self, name, tensor_inputs, num_outputs)\u001b[0m\n\u001b[0;32m   1498\u001b[0m cancellation_context \u001b[38;5;241m=\u001b[39m cancellation\u001b[38;5;241m.\u001b[39mcontext()\n\u001b[0;32m   1499\u001b[0m \u001b[38;5;28;01mif\u001b[39;00m cancellation_context \u001b[38;5;129;01mis\u001b[39;00m \u001b[38;5;28;01mNone\u001b[39;00m:\n\u001b[1;32m-> 1500\u001b[0m   outputs \u001b[38;5;241m=\u001b[39m \u001b[43mexecute\u001b[49m\u001b[38;5;241;43m.\u001b[39;49m\u001b[43mexecute\u001b[49m\u001b[43m(\u001b[49m\n\u001b[0;32m   1501\u001b[0m \u001b[43m      \u001b[49m\u001b[43mname\u001b[49m\u001b[38;5;241;43m.\u001b[39;49m\u001b[43mdecode\u001b[49m\u001b[43m(\u001b[49m\u001b[38;5;124;43m\"\u001b[39;49m\u001b[38;5;124;43mutf-8\u001b[39;49m\u001b[38;5;124;43m\"\u001b[39;49m\u001b[43m)\u001b[49m\u001b[43m,\u001b[49m\n\u001b[0;32m   1502\u001b[0m \u001b[43m      \u001b[49m\u001b[43mnum_outputs\u001b[49m\u001b[38;5;241;43m=\u001b[39;49m\u001b[43mnum_outputs\u001b[49m\u001b[43m,\u001b[49m\n\u001b[0;32m   1503\u001b[0m \u001b[43m      \u001b[49m\u001b[43minputs\u001b[49m\u001b[38;5;241;43m=\u001b[39;49m\u001b[43mtensor_inputs\u001b[49m\u001b[43m,\u001b[49m\n\u001b[0;32m   1504\u001b[0m \u001b[43m      \u001b[49m\u001b[43mattrs\u001b[49m\u001b[38;5;241;43m=\u001b[39;49m\u001b[43mattrs\u001b[49m\u001b[43m,\u001b[49m\n\u001b[0;32m   1505\u001b[0m \u001b[43m      \u001b[49m\u001b[43mctx\u001b[49m\u001b[38;5;241;43m=\u001b[39;49m\u001b[38;5;28;43mself\u001b[39;49m\u001b[43m,\u001b[49m\n\u001b[0;32m   1506\u001b[0m \u001b[43m  \u001b[49m\u001b[43m)\u001b[49m\n\u001b[0;32m   1507\u001b[0m \u001b[38;5;28;01melse\u001b[39;00m:\n\u001b[0;32m   1508\u001b[0m   outputs \u001b[38;5;241m=\u001b[39m execute\u001b[38;5;241m.\u001b[39mexecute_with_cancellation(\n\u001b[0;32m   1509\u001b[0m       name\u001b[38;5;241m.\u001b[39mdecode(\u001b[38;5;124m\"\u001b[39m\u001b[38;5;124mutf-8\u001b[39m\u001b[38;5;124m\"\u001b[39m),\n\u001b[0;32m   1510\u001b[0m       num_outputs\u001b[38;5;241m=\u001b[39mnum_outputs,\n\u001b[1;32m   (...)\u001b[0m\n\u001b[0;32m   1514\u001b[0m       cancellation_manager\u001b[38;5;241m=\u001b[39mcancellation_context,\n\u001b[0;32m   1515\u001b[0m   )\n",
      "File \u001b[1;32md:\\OneDrive\\Documents\\Uni\\Machine Learning in Mechanics\\GoogleDecimeterChallenge\\.venv\\Lib\\site-packages\\tensorflow\\python\\eager\\execute.py:53\u001b[0m, in \u001b[0;36mquick_execute\u001b[1;34m(op_name, num_outputs, inputs, attrs, ctx, name)\u001b[0m\n\u001b[0;32m     51\u001b[0m \u001b[38;5;28;01mtry\u001b[39;00m:\n\u001b[0;32m     52\u001b[0m   ctx\u001b[38;5;241m.\u001b[39mensure_initialized()\n\u001b[1;32m---> 53\u001b[0m   tensors \u001b[38;5;241m=\u001b[39m \u001b[43mpywrap_tfe\u001b[49m\u001b[38;5;241;43m.\u001b[39;49m\u001b[43mTFE_Py_Execute\u001b[49m\u001b[43m(\u001b[49m\u001b[43mctx\u001b[49m\u001b[38;5;241;43m.\u001b[39;49m\u001b[43m_handle\u001b[49m\u001b[43m,\u001b[49m\u001b[43m \u001b[49m\u001b[43mdevice_name\u001b[49m\u001b[43m,\u001b[49m\u001b[43m \u001b[49m\u001b[43mop_name\u001b[49m\u001b[43m,\u001b[49m\n\u001b[0;32m     54\u001b[0m \u001b[43m                                      \u001b[49m\u001b[43minputs\u001b[49m\u001b[43m,\u001b[49m\u001b[43m \u001b[49m\u001b[43mattrs\u001b[49m\u001b[43m,\u001b[49m\u001b[43m \u001b[49m\u001b[43mnum_outputs\u001b[49m\u001b[43m)\u001b[49m\n\u001b[0;32m     55\u001b[0m \u001b[38;5;28;01mexcept\u001b[39;00m core\u001b[38;5;241m.\u001b[39m_NotOkStatusException \u001b[38;5;28;01mas\u001b[39;00m e:\n\u001b[0;32m     56\u001b[0m   \u001b[38;5;28;01mif\u001b[39;00m name \u001b[38;5;129;01mis\u001b[39;00m \u001b[38;5;129;01mnot\u001b[39;00m \u001b[38;5;28;01mNone\u001b[39;00m:\n",
      "\u001b[1;31mKeyboardInterrupt\u001b[0m: "
     ]
    }
   ],
   "source": [
    "\n",
    "\n",
    "# train the model\n",
    "history = model.fit(train_input_data_padded_normalized, train_gt_data_padded_normalized, epochs=100, batch_size=32, validation_split=0.2, callbacks=[TrainingPlot()])\n",
    "\n"
   ]
  },
  {
   "cell_type": "code",
   "execution_count": null,
   "metadata": {},
   "outputs": [],
   "source": []
  }
 ],
 "metadata": {
  "kernelspec": {
   "display_name": ".venv",
   "language": "python",
   "name": "python3"
  },
  "language_info": {
   "codemirror_mode": {
    "name": "ipython",
    "version": 3
   },
   "file_extension": ".py",
   "mimetype": "text/x-python",
   "name": "python",
   "nbconvert_exporter": "python",
   "pygments_lexer": "ipython3",
   "version": "3.11.6"
  }
 },
 "nbformat": 4,
 "nbformat_minor": 2
}
