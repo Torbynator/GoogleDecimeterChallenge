{
 "cells": [
  {
   "cell_type": "markdown",
   "metadata": {},
   "source": [
    "Notebook for the GoogleDecimeterChallenge https://www.kaggle.com/competitions/smartphone-decimeter-2023\n"
   ]
  },
  {
   "cell_type": "code",
   "execution_count": 2,
   "metadata": {},
   "outputs": [],
   "source": [
    "#reading data\n",
    "import numpy as np \n",
    "import pandas as pd\n",
    "from tqdm import tqdm, trange\n",
    "import os\n",
    "\n",
    "INPUT_PATH = 'sdc2023/'\n",
    "\n"
   ]
  },
  {
   "cell_type": "code",
   "execution_count": 3,
   "metadata": {},
   "outputs": [],
   "source": [
    "\n",
    "\n",
    "test_input_data = []\n",
    "test_gt_data = []\n",
    "\n",
    "#iterate over all data files and store them in the respective arrays\n",
    "\n",
    "#load test data\n",
    "test_files = os.listdir(INPUT_PATH + \"test\")\n",
    "\n",
    "for folder in test_files:\n",
    "    smartphones = os.listdir(INPUT_PATH + \"test/\"+folder)\n",
    "    for smartphone in smartphones:\n",
    "        file =  \"/device_gnss.csv\"\n",
    "        #store data in list while dropping first and 41st column (string data)\n",
    "        test_input_data.append(pd.read_csv(INPUT_PATH + \"test/\" +folder+\"/\"+smartphone + file, usecols=[i for i in range(58) if i not in [0,40]], dtype=np.float32).to_numpy(dtype=np.float32).tolist())\n"
   ]
  },
  {
   "cell_type": "code",
   "execution_count": 4,
   "metadata": {},
   "outputs": [],
   "source": [
    "#load train data\n",
    "MAX_SAMPLES = 400\n",
    "train_files = os.listdir(INPUT_PATH + \"train\")\n",
    "sample_count=0\n",
    "\n",
    "train_input_data = []\n",
    "train_gt_data = []\n",
    "\n",
    "for folder in train_files:\n",
    "    smartphones = os.listdir(INPUT_PATH + \"train/\"+folder)\n",
    "    for smartphone in smartphones:\n",
    "        files = os.listdir(INPUT_PATH + \"train/\"+folder+\"/\"+smartphone)\n",
    "        for file in files:\n",
    "            if file.endswith(\".csv\"):\n",
    "                if sample_count >= MAX_SAMPLES:\n",
    "                    break   \n",
    "                if \"gnss\" in file:\n",
    "                    #store data in list while dropping first and 41st column (string data), as well as (porbably mostly) empty columns\n",
    "                    #also all data points with the same timestep are seen as features of one timestep of a sample\n",
    "                    train_input_data.append(pd.read_csv(INPUT_PATH + \"train/\" +folder+\"/\"+ smartphone+ \"/\" + file, usecols=[i for i in range(58) if i not in [0,2,3,4,22,23,24,26,28,19,30,31,32,33,34,35,40]], dtype=float).to_numpy(dtype=float).tolist())\n",
    "                elif \"ground_truth\" in file:\n",
    "                    sample_count +=1\n",
    "                    #store data in list while dropping first and 2nd column (string data),(porbably mostly) empty columns\n",
    "                    train_gt_data.append(pd.read_csv(INPUT_PATH + \"train/\"+folder+\"/\" + smartphone+ \"/\" + file,  usecols=[i for i in range(9) if i not in [0,1]], dtype=float).to_numpy(dtype=float).tolist())\n",
    "\n"
   ]
  },
  {
   "cell_type": "code",
   "execution_count": null,
   "metadata": {},
   "outputs": [
    {
     "name": "stderr",
     "output_type": "stream",
     "text": [
      "c:\\Users\\Torbe\\OneDrive\\Documents\\Uni\\Machine Learning in Mechanics\\GoogleDecimeterChallenge\\.venv\\Lib\\site-packages\\keras\\src\\utils\\sequence_utils.py:125: RuntimeWarning: invalid value encountered in cast\n",
      "  trunc = np.asarray(trunc, dtype=dtype)\n"
     ]
    }
   ],
   "source": [
    "import tensorflow as tf\n",
    "\n",
    "#move all features with the same timestamp to one line \n",
    "\n",
    "for sample in range(len(train_input_data)):\n",
    "    matches = 0\n",
    "    for step in range(len(train_input_data[sample])):\n",
    "        if step != 0:\n",
    "            if train_input_data[sample][step-matches][0] == train_input_data[sample][step-1-matches][0]:\n",
    "                train_input_data[sample][step-1-matches] = np.concatenate((train_input_data[sample][step-1-matches], train_input_data[sample][step-matches]))\n",
    "                train_input_data[sample].pop(step-matches)\n",
    "                matches +=1\n",
    "\n",
    "\n",
    "#pad input data\n",
    "max_timesteps = max([len(sample) for sample in train_input_data])\n",
    "max_features = max([len(feature) for sample in train_input_data for feature in sample])\n",
    "for sample in train_input_data:\n",
    "    sample.extend([[-1]*max_features]*(max_timesteps-len(sample)))\n",
    "train_input_data_padded = [tf.keras.preprocessing.sequence.pad_sequences(sample,value=-1, padding=\"post\", dtype=np.int32, maxlen=max_features) for sample in train_input_data]\n",
    "train_input_data_padded = np.array(train_input_data_padded)\n",
    "\n",
    "del train_input_data\n",
    "\n",
    "#pad ground truth data\n",
    "max_timesteps_gt = max([len(sample) for sample in train_gt_data])\n",
    "max_features_gt = max([len(feature) for sample in train_gt_data for feature in sample])\n",
    "for sample in train_gt_data:\n",
    "    sample.extend([[-1]*max_features_gt]*(max_timesteps_gt-len(sample)))\n",
    "#convert to right data format\n",
    "train_gt_data = np.array(train_gt_data)\n",
    "train_gt_data_padded = [tf.keras.preprocessing.sequence.pad_sequences(sample, value=-1,padding=\"post\", dtype=np.int32, maxlen=max_features_gt) for sample in train_gt_data]\n",
    "train_gt_data_padded = np.array(train_gt_data_padded)\n",
    "del train_gt_data\n"
   ]
  },
  {
   "cell_type": "code",
   "execution_count": null,
   "metadata": {},
   "outputs": [],
   "source": [
    "from sklearn.preprocessing import MinMaxScaler\n",
    "\n",
    "#normalize data\n",
    "scaler = MinMaxScaler()\n",
    "for sample in train_input_data_padded:\n",
    "    sample = scaler.fit_transform(sample)\n"
   ]
  },
  {
   "cell_type": "code",
   "execution_count": null,
   "metadata": {},
   "outputs": [
    {
     "name": "stderr",
     "output_type": "stream",
     "text": [
      "c:\\Users\\Torbe\\OneDrive\\Documents\\Uni\\Machine Learning in Mechanics\\GoogleDecimeterChallenge\\.venv\\Lib\\site-packages\\keras\\src\\layers\\core\\masking.py:47: UserWarning: Do not pass an `input_shape`/`input_dim` argument to a layer. When using Sequential models, prefer using an `Input(shape)` object as the first layer in the model instead.\n",
      "  super().__init__(**kwargs)\n"
     ]
    }
   ],
   "source": [
    "\n",
    "from tensorflow.keras.models import Sequential\n",
    "from tensorflow.keras.layers import LSTM, Dense, Masking\n",
    "from tensorflow.keras.backend import clear_session\n",
    "\n",
    "clear_session()\n",
    "\n",
    "#create model\n",
    "model = Sequential()\n",
    "model.add(Masking(mask_value=-1, input_shape=(train_input_data_padded.shape[1], train_input_data_padded.shape[2])))\n",
    "model.add(LSTM(60, return_sequences=True))\n",
    "model.add(Dense(7))\n",
    "\n",
    "model.compile(optimizer='adam', loss='mean_squared_error')\n"
   ]
  },
  {
   "cell_type": "code",
   "execution_count": null,
   "metadata": {},
   "outputs": [
    {
     "name": "stdout",
     "output_type": "stream",
     "text": [
      "(10, 2147, 1722)\n",
      "(10, 2147, 7)\n"
     ]
    }
   ],
   "source": [
    "\n",
    "print(train_input_data_padded.shape)\n",
    "print(train_gt_data_padded.shape)"
   ]
  },
  {
   "cell_type": "code",
   "execution_count": null,
   "metadata": {},
   "outputs": [
    {
     "name": "stdout",
     "output_type": "stream",
     "text": [
      "Epoch 1/10\n",
      "\u001b[1m4/4\u001b[0m \u001b[32m━━━━━━━━━━━━━━━━━━━━\u001b[0m\u001b[37m\u001b[0m \u001b[1m3s\u001b[0m 639ms/step - loss: 658649177760202752.0000 - val_loss: 658811355725299712.0000\n",
      "Epoch 2/10\n",
      "\u001b[1m4/4\u001b[0m \u001b[32m━━━━━━━━━━━━━━━━━━━━\u001b[0m\u001b[37m\u001b[0m \u001b[1m2s\u001b[0m 549ms/step - loss: 658529262273298432.0000 - val_loss: 658811355725299712.0000\n",
      "Epoch 3/10\n",
      "\u001b[1m4/4\u001b[0m \u001b[32m━━━━━━━━━━━━━━━━━━━━\u001b[0m\u001b[37m\u001b[0m \u001b[1m2s\u001b[0m 554ms/step - loss: 658469819925921792.0000 - val_loss: 658811355725299712.0000\n",
      "Epoch 4/10\n",
      "\u001b[1m4/4\u001b[0m \u001b[32m━━━━━━━━━━━━━━━━━━━━\u001b[0m\u001b[37m\u001b[0m \u001b[1m2s\u001b[0m 554ms/step - loss: 658509058747138048.0000 - val_loss: 658811355725299712.0000\n",
      "Epoch 5/10\n",
      "\u001b[1m4/4\u001b[0m \u001b[32m━━━━━━━━━━━━━━━━━━━━\u001b[0m\u001b[37m\u001b[0m \u001b[1m2s\u001b[0m 551ms/step - loss: 658615848813985792.0000 - val_loss: 658811355725299712.0000\n",
      "Epoch 6/10\n",
      "\u001b[1m4/4\u001b[0m \u001b[32m━━━━━━━━━━━━━━━━━━━━\u001b[0m\u001b[37m\u001b[0m \u001b[1m2s\u001b[0m 558ms/step - loss: 658602723393929216.0000 - val_loss: 658811355725299712.0000\n",
      "Epoch 7/10\n",
      "\u001b[1m4/4\u001b[0m \u001b[32m━━━━━━━━━━━━━━━━━━━━\u001b[0m\u001b[37m\u001b[0m \u001b[1m2s\u001b[0m 608ms/step - loss: 658483838699175936.0000 - val_loss: 658811355725299712.0000\n",
      "Epoch 8/10\n",
      "\u001b[1m4/4\u001b[0m \u001b[32m━━━━━━━━━━━━━━━━━━━━\u001b[0m\u001b[37m\u001b[0m \u001b[1m2s\u001b[0m 567ms/step - loss: 658514762463707136.0000 - val_loss: 658811355725299712.0000\n",
      "Epoch 9/10\n",
      "\u001b[1m4/4\u001b[0m \u001b[32m━━━━━━━━━━━━━━━━━━━━\u001b[0m\u001b[37m\u001b[0m \u001b[1m3s\u001b[0m 641ms/step - loss: 658508783869231104.0000 - val_loss: 658811355725299712.0000\n",
      "Epoch 10/10\n",
      "\u001b[1m4/4\u001b[0m \u001b[32m━━━━━━━━━━━━━━━━━━━━\u001b[0m\u001b[37m\u001b[0m \u001b[1m3s\u001b[0m 642ms/step - loss: 658530293065449472.0000 - val_loss: 658811355725299712.0000\n"
     ]
    },
    {
     "data": {
      "text/plain": [
       "<keras.src.callbacks.history.History at 0x20af2df8e50>"
      ]
     },
     "execution_count": 51,
     "metadata": {},
     "output_type": "execute_result"
    }
   ],
   "source": [
    "\n",
    "# train the model\n",
    "model.fit(train_input_data_padded, train_gt_data_padded, epochs=10, batch_size=32, validation_split=0.2)\n"
   ]
  },
  {
   "cell_type": "code",
   "execution_count": null,
   "metadata": {},
   "outputs": [],
   "source": []
  }
 ],
 "metadata": {
  "kernelspec": {
   "display_name": ".venv",
   "language": "python",
   "name": "python3"
  },
  "language_info": {
   "codemirror_mode": {
    "name": "ipython",
    "version": 3
   },
   "file_extension": ".py",
   "mimetype": "text/x-python",
   "name": "python",
   "nbconvert_exporter": "python",
   "pygments_lexer": "ipython3",
   "version": "3.11.4"
  }
 },
 "nbformat": 4,
 "nbformat_minor": 2
}
