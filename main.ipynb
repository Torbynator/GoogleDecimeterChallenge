{
 "cells": [
  {
   "cell_type": "markdown",
   "metadata": {},
   "source": [
    "Notebook for the GoogleDecimeterChallenge https://www.kaggle.com/competitions/smartphone-decimeter-2023\n"
   ]
  },
  {
   "cell_type": "code",
   "execution_count": 1,
   "metadata": {},
   "outputs": [
    {
     "name": "stderr",
     "output_type": "stream",
     "text": [
      "C:\\Users\\Torbe\\AppData\\Local\\Temp\\ipykernel_25624\\2407372233.py:24: DtypeWarning: Columns (21) have mixed types. Specify dtype option on import or set low_memory=False.\n",
      "  test_input_data.append(pd.read_csv(INPUT_PATH + \"test/\" +folder+\"/\"+smartphone + file).to_numpy().tolist())\n",
      "C:\\Users\\Torbe\\AppData\\Local\\Temp\\ipykernel_25624\\2407372233.py:24: DtypeWarning: Columns (21) have mixed types. Specify dtype option on import or set low_memory=False.\n",
      "  test_input_data.append(pd.read_csv(INPUT_PATH + \"test/\" +folder+\"/\"+smartphone + file).to_numpy().tolist())\n",
      "C:\\Users\\Torbe\\AppData\\Local\\Temp\\ipykernel_25624\\2407372233.py:24: DtypeWarning: Columns (21) have mixed types. Specify dtype option on import or set low_memory=False.\n",
      "  test_input_data.append(pd.read_csv(INPUT_PATH + \"test/\" +folder+\"/\"+smartphone + file).to_numpy().tolist())\n",
      "C:\\Users\\Torbe\\AppData\\Local\\Temp\\ipykernel_25624\\2407372233.py:24: DtypeWarning: Columns (21) have mixed types. Specify dtype option on import or set low_memory=False.\n",
      "  test_input_data.append(pd.read_csv(INPUT_PATH + \"test/\" +folder+\"/\"+smartphone + file).to_numpy().tolist())\n",
      "C:\\Users\\Torbe\\AppData\\Local\\Temp\\ipykernel_25624\\2407372233.py:24: DtypeWarning: Columns (21) have mixed types. Specify dtype option on import or set low_memory=False.\n",
      "  test_input_data.append(pd.read_csv(INPUT_PATH + \"test/\" +folder+\"/\"+smartphone + file).to_numpy().tolist())\n",
      "C:\\Users\\Torbe\\AppData\\Local\\Temp\\ipykernel_25624\\2407372233.py:24: DtypeWarning: Columns (21) have mixed types. Specify dtype option on import or set low_memory=False.\n",
      "  test_input_data.append(pd.read_csv(INPUT_PATH + \"test/\" +folder+\"/\"+smartphone + file).to_numpy().tolist())\n",
      "C:\\Users\\Torbe\\AppData\\Local\\Temp\\ipykernel_25624\\2407372233.py:24: DtypeWarning: Columns (21) have mixed types. Specify dtype option on import or set low_memory=False.\n",
      "  test_input_data.append(pd.read_csv(INPUT_PATH + \"test/\" +folder+\"/\"+smartphone + file).to_numpy().tolist())\n",
      "C:\\Users\\Torbe\\AppData\\Local\\Temp\\ipykernel_25624\\2407372233.py:24: DtypeWarning: Columns (21) have mixed types. Specify dtype option on import or set low_memory=False.\n",
      "  test_input_data.append(pd.read_csv(INPUT_PATH + \"test/\" +folder+\"/\"+smartphone + file).to_numpy().tolist())\n",
      "C:\\Users\\Torbe\\AppData\\Local\\Temp\\ipykernel_25624\\2407372233.py:24: DtypeWarning: Columns (21) have mixed types. Specify dtype option on import or set low_memory=False.\n",
      "  test_input_data.append(pd.read_csv(INPUT_PATH + \"test/\" +folder+\"/\"+smartphone + file).to_numpy().tolist())\n"
     ]
    }
   ],
   "source": [
    "#reading data\n",
    "import numpy as np \n",
    "import pandas as pd\n",
    "from tqdm import tqdm, trange\n",
    "import os\n",
    "\n",
    "INPUT_PATH = 'sdc2023/'\n",
    "\n",
    "test_input_data = []\n",
    "test_gt_data = []\n",
    "train_input_data = []\n",
    "train_gt_data = []\n",
    "\n",
    "\n",
    "#iterate over all data files and store them in the respective arrays\n",
    "\n",
    "#load test data\n",
    "test_files = os.listdir(INPUT_PATH + \"test\")\n",
    "\n",
    "for folder in test_files:\n",
    "    smartphones = os.listdir(INPUT_PATH + \"test/\"+folder)\n",
    "    for smartphone in smartphones:\n",
    "        file =  \"/device_gnss.csv\"\n",
    "        test_input_data.append(pd.read_csv(INPUT_PATH + \"test/\" +folder+\"/\"+smartphone + file).to_numpy().tolist())\n"
   ]
  },
  {
   "cell_type": "code",
   "execution_count": 2,
   "metadata": {},
   "outputs": [
    {
     "name": "stderr",
     "output_type": "stream",
     "text": [
      "C:\\Users\\Torbe\\AppData\\Local\\Temp\\ipykernel_25624\\806536042.py:16: DtypeWarning: Columns (21) have mixed types. Specify dtype option on import or set low_memory=False.\n",
      "  train_input_data.append(pd.read_csv(INPUT_PATH + \"train/\" +folder+\"/\"+ smartphone+ \"/\" + file).to_numpy().tolist())\n",
      "C:\\Users\\Torbe\\AppData\\Local\\Temp\\ipykernel_25624\\806536042.py:16: DtypeWarning: Columns (21) have mixed types. Specify dtype option on import or set low_memory=False.\n",
      "  train_input_data.append(pd.read_csv(INPUT_PATH + \"train/\" +folder+\"/\"+ smartphone+ \"/\" + file).to_numpy().tolist())\n"
     ]
    }
   ],
   "source": [
    "#load train data\n",
    "MAX_SAMPLES = 50 \n",
    "train_files = os.listdir(INPUT_PATH + \"train\")\n",
    "sample_count=0\n",
    "\n",
    "for folder in train_files:\n",
    "    smartphones = os.listdir(INPUT_PATH + \"train/\"+folder)\n",
    "    for smartphone in smartphones:\n",
    "        files = os.listdir(INPUT_PATH + \"train/\"+folder+\"/\"+smartphone)\n",
    "        for file in files:\n",
    "            if file.endswith(\".csv\"):\n",
    "                if sample_count >= MAX_SAMPLES:\n",
    "                    break\n",
    "                sample_count +=1\n",
    "                if \"gnss\" in file:\n",
    "                    train_input_data.append(pd.read_csv(INPUT_PATH + \"train/\" +folder+\"/\"+ smartphone+ \"/\" + file).to_numpy().tolist())\n",
    "                elif \"ground_truth\" in file:\n",
    "                    train_gt_data.append(pd.read_csv(INPUT_PATH + \"train/\"+folder+\"/\" + smartphone+ \"/\" + file).to_numpy().tolist())\n",
    "\n"
   ]
  },
  {
   "cell_type": "code",
   "execution_count": 3,
   "metadata": {},
   "outputs": [
    {
     "ename": "ModuleNotFoundError",
     "evalue": "No module named 'tensorflow'",
     "output_type": "error",
     "traceback": [
      "\u001b[1;31m---------------------------------------------------------------------------\u001b[0m",
      "\u001b[1;31mModuleNotFoundError\u001b[0m                       Traceback (most recent call last)",
      "Cell \u001b[1;32mIn[3], line 1\u001b[0m\n\u001b[1;32m----> 1\u001b[0m \u001b[38;5;28;01mimport\u001b[39;00m \u001b[38;5;21;01mtensorflow\u001b[39;00m \u001b[38;5;28;01mas\u001b[39;00m \u001b[38;5;21;01mtf\u001b[39;00m\n\u001b[0;32m      3\u001b[0m \u001b[38;5;66;03m#pad data and create mask\u001b[39;00m\n\u001b[0;32m      4\u001b[0m input_data_padded \u001b[38;5;241m=\u001b[39m tf\u001b[38;5;241m.\u001b[39mkeras\u001b[38;5;241m.\u001b[39mutils\u001b[38;5;241m.\u001b[39mpad_sequences(train_input_data, padding\u001b[38;5;241m=\u001b[39m\u001b[38;5;124m\"\u001b[39m\u001b[38;5;124mpost\u001b[39m\u001b[38;5;124m\"\u001b[39m)\n",
      "\u001b[1;31mModuleNotFoundError\u001b[0m: No module named 'tensorflow'"
     ]
    }
   ],
   "source": [
    "#could not install tensorflow (I love the ICE WiFi)\n",
    "\n",
    "#import tensorflow as tf\n",
    "\n",
    "#pad data and create mask\n",
    "input_data_padded = tf.keras.utils.pad_sequences(train_input_data, padding=\"post\")\n",
    "\n"
   ]
  }
 ],
 "metadata": {
  "kernelspec": {
   "display_name": ".venv",
   "language": "python",
   "name": "python3"
  },
  "language_info": {
   "codemirror_mode": {
    "name": "ipython",
    "version": 3
   },
   "file_extension": ".py",
   "mimetype": "text/x-python",
   "name": "python",
   "nbconvert_exporter": "python",
   "pygments_lexer": "ipython3",
   "version": "3.11.4"
  }
 },
 "nbformat": 4,
 "nbformat_minor": 2
}
