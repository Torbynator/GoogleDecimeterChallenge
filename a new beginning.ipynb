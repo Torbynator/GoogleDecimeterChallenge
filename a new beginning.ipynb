{
 "cells": [
  {
   "cell_type": "markdown",
   "metadata": {},
   "source": [
    "This notebook is a vewrsion of the original notebook. Instead of preparing the data by padding and masking smaller batches of time series of the trajectories are prepared and fed to the network"
   ]
  },
  {
   "cell_type": "markdown",
   "metadata": {},
   "source": [
    "Notebook for the GoogleDecimeterChallenge https://www.kaggle.com/competitions/smartphone-decimeter-2023\n"
   ]
  },
  {
   "cell_type": "markdown",
   "metadata": {},
   "source": [
    "Also try to run it on google collab, works great only RAM is limited:\n",
    "https://colab.research.google.com/github/Torbynator/GoogleDecimeterChallenge/blob/main/main.ipynb#scrollTo=TOn-Can4C0YP"
   ]
  },
  {
   "cell_type": "markdown",
   "metadata": {},
   "source": [
    "#Only for google collab\n",
    "from google.colab import drive\n",
    "drive.mount('/content/drive')\n",
    "!pip install  kaggle\n",
    "!mkdir -p ~/.kaggle\n",
    "!cp /content/drive/MyDrive/kaggle.json ~/.kaggle/\n",
    "!kaggle competitions download -c smartphone-decimeter-2023\n",
    "!unzip /content/smartphone-decimeter-2023.zip"
   ]
  },
  {
   "cell_type": "code",
   "execution_count": 1,
   "metadata": {},
   "outputs": [],
   "source": [
    "#reading data\n",
    "import numpy as np \n",
    "import pandas as pd\n",
    "from tqdm import tqdm, trange\n",
    "import math\n",
    "import os\n",
    "import tensorflow as tf\n",
    "import matplotlib.pyplot as plt\t\n",
    "\n",
    "INPUT_PATH = 'sdc2023/'\n",
    "\n"
   ]
  },
  {
   "cell_type": "code",
   "execution_count": 2,
   "metadata": {},
   "outputs": [],
   "source": [
    "\n",
    "\n",
    "# test_input_data = []\n",
    "# test_gt_data = []\n",
    "\n",
    "# #iterate over all data files and store them in the respective arrays\n",
    "\n",
    "# #load test data\n",
    "# test_files = os.listdir(INPUT_PATH + \"test\")\n",
    "\n",
    "# for folder in test_files:\n",
    "#     smartphones = os.listdir(INPUT_PATH + \"test/\"+folder)\n",
    "#     for smartphone in smartphones:\n",
    "#         file =  \"/device_gnss.csv\"\n",
    "#         #store data in list while dropping first and 41st column (string data)\n",
    "#         test_input_data.append(pd.read_csv(INPUT_PATH + \"test/\" +folder+\"/\"+smartphone + file, usecols=[i for i in range(58) if i not in [0,40]], dtype=np.float32).to_numpy(dtype=np.float32).tolist())\n"
   ]
  },
  {
   "cell_type": "code",
   "execution_count": 3,
   "metadata": {},
   "outputs": [
    {
     "name": "stdout",
     "output_type": "stream",
     "text": [
      "read in 1 samples\n"
     ]
    }
   ],
   "source": [
    "#load train data\n",
    "MAX_TRAJECTORIES = 1\n",
    "train_files = os.listdir(INPUT_PATH + \"train\")\n",
    "trajectory_count=0\n",
    "used_columns = [\"utcTimeMillis\",\"RawPseudorangeMeters\", \"RawPseudorangeUncertaintyMeters\" ,\"SvPositionXEcefMeters\" ,\"SvPositionYEcefMeters\", \"SvPositionZEcefMeters\", \"IsrbMeters\"]\n",
    "\n",
    "train_input_data = []\n",
    "train_gt_data = []\n",
    "\n",
    "for folder in train_files:\n",
    "    smartphones = os.listdir(INPUT_PATH + \"train/\"+folder)\n",
    "    for smartphone in smartphones:\n",
    "        files = os.listdir(INPUT_PATH + \"train/\"+folder+\"/\"+smartphone)\n",
    "        for file in files:\n",
    "            if file.endswith(\".csv\"):\n",
    "                if trajectory_count >= MAX_TRAJECTORIES:\n",
    "                    break   \n",
    "                if \"gnss\" in file:\n",
    "                    #store data in list while dropping first and 41st column (string data), as well as (porbably mostly) empty columns\n",
    "                    #also all data points with the same timestep are seen as features of one timestep of a sample\n",
    "                    sample = pd.read_csv(INPUT_PATH + \"train/\" +folder+\"/\"+ smartphone+ \"/\" + file, usecols=used_columns, dtype=float).to_numpy(dtype=float)\n",
    "                    #correct PseudoRange with ISRB\n",
    "                    sample[:,1] = sample[:,1] + sample[:,6]\n",
    "                    train_input_data.append(sample)\n",
    "                elif \"ground_truth\" in file:\n",
    "                    trajectory_count +=1\n",
    "                    #store data in list while dropping first and 2nd column (string data),(porbably mostly) empty columns\n",
    "                    train_gt_data.append(pd.read_csv(INPUT_PATH + \"train/\"+folder+\"/\" + smartphone+ \"/\" + file,  usecols=[i for i in range(9) if i not in [0,1]], dtype=float).to_numpy(dtype=float).tolist())\n",
    "                    print(f\"read in {trajectory_count} samples\")\n",
    "\n",
    "#delete IRSB column\n",
    "train_input_data = [sample[:,:6] for sample in train_input_data]\n",
    "\n",
    "#replace NaN values with 0\n",
    "train_input_data = [[[0 if math.isnan(x) else x for x in timestep] for timestep in sample ] for sample in train_input_data]"
   ]
  },
  {
   "cell_type": "code",
   "execution_count": 4,
   "metadata": {},
   "outputs": [
    {
     "name": "stdout",
     "output_type": "stream",
     "text": [
      "sample 0\n",
      "(1249, 50, 211)\n",
      "(1249, 50, 7)\n"
     ]
    }
   ],
   "source": [
    "TIME_SERIES_SIZE = 50\n",
    "import json\n",
    "\n",
    "\n",
    "#move all features with the same timestamp to one line \n",
    "for sample in range(len(train_input_data)):\n",
    "    matches = 0\n",
    "    print(f\"sample {sample}\")\n",
    "    timesteps = 0\n",
    "    for step in range(len(train_input_data[sample])):\n",
    "        if step != 0:\n",
    "            if train_input_data[sample][step-matches][0] == train_input_data[sample][step-1-matches][0]:\n",
    "                train_input_data[sample][step-1-matches].extend(train_input_data[sample][step-matches][1:])\n",
    "                train_input_data[sample].pop(step-matches)\n",
    "                matches +=1\n",
    "            else:\n",
    "                timesteps+=1\n",
    "\n",
    "\n",
    "#prpare batches of time series of size TIME_SERIES_SIZE\n",
    "train_input_data_batched = [sample[i:i+TIME_SERIES_SIZE] for sample in train_input_data for i in range(0,len(sample)-TIME_SERIES_SIZE)]\n",
    "train_gt_data_batched = [sample[i:i+TIME_SERIES_SIZE] for sample in train_gt_data for i in range(0,len(sample)-TIME_SERIES_SIZE)]\n",
    "\n",
    "\n",
    "\n",
    "\n",
    "#pad input data\n",
    "max_features = max(max([len(feature) for sample in train_input_data_batched for feature in sample]),max([len(feature) for sample in train_gt_data_batched for feature in sample]))\n",
    "\n",
    "\n",
    "train_input_data_padded = [tf.keras.preprocessing.sequence.pad_sequences(sample,value=0, padding=\"post\", dtype=np.float64, maxlen=max_features) for sample in train_input_data_batched]\n",
    "train_input_data_padded = np.array(train_input_data_padded)\n",
    "\n",
    "\n",
    "\n",
    "del train_input_data, train_input_data_batched\n",
    "\n",
    "#pad ground truth data\n",
    "max_features_gt = max(len(feature) for sample in train_gt_data_batched for feature in sample)\n",
    "\n",
    "#convert to right data format\n",
    "train_gt_data_padded = [tf.keras.preprocessing.sequence.pad_sequences(sample, value=0,padding=\"post\", dtype=np.float64, maxlen=max_features_gt) for sample in train_gt_data_batched]\n",
    "train_gt_data_padded = np.array(train_gt_data_padded)\n",
    "del train_gt_data, train_gt_data_batched\n",
    "\n",
    "if(train_input_data_padded.shape[0] != train_gt_data_padded.shape[0]):\n",
    "    while train_input_data_padded.shape[0] > train_gt_data_padded.shape[0]:\n",
    "        train_input_data_padded = np.delete(train_input_data_padded, -1, axis=0)\n",
    "    while train_input_data_padded.shape[0] < train_gt_data_padded.shape[0]:\n",
    "        train_gt_data_padded = np.delete(train_gt_data_padded, -1, axis=0)\n",
    "\n",
    "print(train_input_data_padded.shape)\n",
    "print(train_gt_data_padded.shape)\n"
   ]
  },
  {
   "cell_type": "code",
   "execution_count": 5,
   "metadata": {},
   "outputs": [],
   "source": [
    "import sklearn.preprocessing as preprocess\n",
    "\n",
    "#normalize data\n",
    "scaler = preprocess.MinMaxScaler()\n",
    "train_input_data_padded_normalized = []\n",
    "for sample in train_input_data_padded:\n",
    "    data_range = []\n",
    "    train_input_data_padded_normalized.append(scaler.fit_transform(sample))\n",
    "train_input_data_padded_normalized=np.array(train_input_data_padded_normalized)\n",
    "\n",
    "gt_scaler = preprocess.MinMaxScaler()\n",
    "train_gt_data_padded_normalized = []\n",
    "for sample in train_gt_data_padded:\n",
    "    data_range = []\n",
    "    train_gt_data_padded_normalized.append(gt_scaler.fit_transform(sample))\n",
    "train_gt_data_padded_normalized=np.array(train_gt_data_padded_normalized)\n"
   ]
  },
  {
   "cell_type": "code",
   "execution_count": 16,
   "metadata": {},
   "outputs": [
    {
     "name": "stderr",
     "output_type": "stream",
     "text": [
      "d:\\OneDrive\\Documents\\Uni\\Machine Learning in Mechanics\\GoogleDecimeterChallenge\\.venv\\Lib\\site-packages\\keras\\src\\layers\\core\\masking.py:47: UserWarning: Do not pass an `input_shape`/`input_dim` argument to a layer. When using Sequential models, prefer using an `Input(shape)` object as the first layer in the model instead.\n",
      "  super().__init__(**kwargs)\n"
     ]
    }
   ],
   "source": [
    "\n",
    "from tensorflow.keras.models import Sequential\n",
    "from tensorflow.keras.layers import LSTM, Dense, Masking\n",
    "from tensorflow.keras.backend import clear_session\n",
    "from tensorflow.keras.optimizers import Adam\n",
    "\n",
    "\n",
    "ACTIVATION = \"tanh\"\n",
    "\n",
    "clear_session()\n",
    "\n",
    "\n",
    "\n",
    "#create model\n",
    "model = Sequential()\n",
    "model.add(Masking(mask_value=0, input_shape=(train_input_data_padded.shape[1], train_input_data_padded.shape[2])))\n",
    "#model.add(tf.keras.layers.BatchNormalization(axis=-1, input_shape=(train_input_data_padded.shape[1], train_input_data_padded.shape[2])))\n",
    "model.add(LSTM(50,activation=ACTIVATION ,return_sequences=True))\n",
    "model.add(LSTM(50, activation=ACTIVATION ,return_sequences=True))\n",
    "model.add(Dense(7, activation=\"linear\"))\n",
    "\n",
    "\n",
    "def measure(lat1, lon1, lat2, lon2):  # generally used geo measurement function\n",
    "    R = 6378.137; # Radius of earth in KM\n",
    "    dLat = lat2 * np.pi / 180 - lat1 * np.pi / 180\n",
    "    dLon = lon2 * np.pi / 180 - lon1 * np.pi / 180\n",
    "    a = np.sin(dLat/2) * np.sin(dLat/2) + np.cos(lat1 * np.pi / 180) * np.cos(lat2 * np.pi / 180) *  np.sin(dLon/2) * np.sin(dLon/2)\n",
    "    c = 2 * np.arctan2(np.sqrt(a), np.sqrt(1-a))\n",
    "    d = R * c\n",
    "    return d * 10000; #decimeters\n",
    "\n",
    "\n",
    "class DecimeterError(tf.keras.callbacks.Callback):\n",
    "    def __init__(self):\n",
    "        super(DecimeterError, self).__init__()\n",
    "\n",
    "    def on_epoch_end(self, epoch, logs=None):\n",
    "        ly_pred = self.model.predict(train_input_data_padded_normalized)\n",
    "        ly_true = train_gt_data_padded_normalized\n",
    "        ly_pred = np.array([gt_scaler.inverse_transform(sample) for sample in ly_pred])\n",
    "        ly_true = np.array([gt_scaler.inverse_transform(sample) for sample in ly_true])\n",
    "        error = measure(ly_pred[:,:,0], ly_pred[:,:,1], ly_true[:,:,0], ly_true[:,:,1])\n",
    "        total_avg_error = np.mean(error)\n",
    "        print(f\"decimeter error: {total_avg_error}\")\n",
    "\n",
    "\n",
    "\n",
    "model.compile(optimizer=\"adam\", loss=\"MeanSquaredError\")\n"
   ]
  },
  {
   "cell_type": "code",
   "execution_count": 17,
   "metadata": {},
   "outputs": [
    {
     "data": {
      "text/html": [
       "<pre style=\"white-space:pre;overflow-x:auto;line-height:normal;font-family:Menlo,'DejaVu Sans Mono',consolas,'Courier New',monospace\"><span style=\"font-weight: bold\">Model: \"sequential\"</span>\n",
       "</pre>\n"
      ],
      "text/plain": [
       "\u001b[1mModel: \"sequential\"\u001b[0m\n"
      ]
     },
     "metadata": {},
     "output_type": "display_data"
    },
    {
     "data": {
      "text/html": [
       "<pre style=\"white-space:pre;overflow-x:auto;line-height:normal;font-family:Menlo,'DejaVu Sans Mono',consolas,'Courier New',monospace\">┏━━━━━━━━━━━━━━━━━━━━━━━━━━━━━━━━━┳━━━━━━━━━━━━━━━━━━━━━━━━┳━━━━━━━━━━━━━━━┓\n",
       "┃<span style=\"font-weight: bold\"> Layer (type)                    </span>┃<span style=\"font-weight: bold\"> Output Shape           </span>┃<span style=\"font-weight: bold\">       Param # </span>┃\n",
       "┡━━━━━━━━━━━━━━━━━━━━━━━━━━━━━━━━━╇━━━━━━━━━━━━━━━━━━━━━━━━╇━━━━━━━━━━━━━━━┩\n",
       "│ masking (<span style=\"color: #0087ff; text-decoration-color: #0087ff\">Masking</span>)               │ (<span style=\"color: #00d7ff; text-decoration-color: #00d7ff\">None</span>, <span style=\"color: #00af00; text-decoration-color: #00af00\">50</span>, <span style=\"color: #00af00; text-decoration-color: #00af00\">211</span>)        │             <span style=\"color: #00af00; text-decoration-color: #00af00\">0</span> │\n",
       "├─────────────────────────────────┼────────────────────────┼───────────────┤\n",
       "│ lstm (<span style=\"color: #0087ff; text-decoration-color: #0087ff\">LSTM</span>)                     │ (<span style=\"color: #00d7ff; text-decoration-color: #00d7ff\">None</span>, <span style=\"color: #00af00; text-decoration-color: #00af00\">50</span>, <span style=\"color: #00af00; text-decoration-color: #00af00\">50</span>)         │        <span style=\"color: #00af00; text-decoration-color: #00af00\">52,400</span> │\n",
       "├─────────────────────────────────┼────────────────────────┼───────────────┤\n",
       "│ lstm_1 (<span style=\"color: #0087ff; text-decoration-color: #0087ff\">LSTM</span>)                   │ (<span style=\"color: #00d7ff; text-decoration-color: #00d7ff\">None</span>, <span style=\"color: #00af00; text-decoration-color: #00af00\">50</span>, <span style=\"color: #00af00; text-decoration-color: #00af00\">50</span>)         │        <span style=\"color: #00af00; text-decoration-color: #00af00\">20,200</span> │\n",
       "├─────────────────────────────────┼────────────────────────┼───────────────┤\n",
       "│ dense (<span style=\"color: #0087ff; text-decoration-color: #0087ff\">Dense</span>)                   │ (<span style=\"color: #00d7ff; text-decoration-color: #00d7ff\">None</span>, <span style=\"color: #00af00; text-decoration-color: #00af00\">50</span>, <span style=\"color: #00af00; text-decoration-color: #00af00\">7</span>)          │           <span style=\"color: #00af00; text-decoration-color: #00af00\">357</span> │\n",
       "└─────────────────────────────────┴────────────────────────┴───────────────┘\n",
       "</pre>\n"
      ],
      "text/plain": [
       "┏━━━━━━━━━━━━━━━━━━━━━━━━━━━━━━━━━┳━━━━━━━━━━━━━━━━━━━━━━━━┳━━━━━━━━━━━━━━━┓\n",
       "┃\u001b[1m \u001b[0m\u001b[1mLayer (type)                   \u001b[0m\u001b[1m \u001b[0m┃\u001b[1m \u001b[0m\u001b[1mOutput Shape          \u001b[0m\u001b[1m \u001b[0m┃\u001b[1m \u001b[0m\u001b[1m      Param #\u001b[0m\u001b[1m \u001b[0m┃\n",
       "┡━━━━━━━━━━━━━━━━━━━━━━━━━━━━━━━━━╇━━━━━━━━━━━━━━━━━━━━━━━━╇━━━━━━━━━━━━━━━┩\n",
       "│ masking (\u001b[38;5;33mMasking\u001b[0m)               │ (\u001b[38;5;45mNone\u001b[0m, \u001b[38;5;34m50\u001b[0m, \u001b[38;5;34m211\u001b[0m)        │             \u001b[38;5;34m0\u001b[0m │\n",
       "├─────────────────────────────────┼────────────────────────┼───────────────┤\n",
       "│ lstm (\u001b[38;5;33mLSTM\u001b[0m)                     │ (\u001b[38;5;45mNone\u001b[0m, \u001b[38;5;34m50\u001b[0m, \u001b[38;5;34m50\u001b[0m)         │        \u001b[38;5;34m52,400\u001b[0m │\n",
       "├─────────────────────────────────┼────────────────────────┼───────────────┤\n",
       "│ lstm_1 (\u001b[38;5;33mLSTM\u001b[0m)                   │ (\u001b[38;5;45mNone\u001b[0m, \u001b[38;5;34m50\u001b[0m, \u001b[38;5;34m50\u001b[0m)         │        \u001b[38;5;34m20,200\u001b[0m │\n",
       "├─────────────────────────────────┼────────────────────────┼───────────────┤\n",
       "│ dense (\u001b[38;5;33mDense\u001b[0m)                   │ (\u001b[38;5;45mNone\u001b[0m, \u001b[38;5;34m50\u001b[0m, \u001b[38;5;34m7\u001b[0m)          │           \u001b[38;5;34m357\u001b[0m │\n",
       "└─────────────────────────────────┴────────────────────────┴───────────────┘\n"
      ]
     },
     "metadata": {},
     "output_type": "display_data"
    },
    {
     "data": {
      "text/html": [
       "<pre style=\"white-space:pre;overflow-x:auto;line-height:normal;font-family:Menlo,'DejaVu Sans Mono',consolas,'Courier New',monospace\"><span style=\"font-weight: bold\"> Total params: </span><span style=\"color: #00af00; text-decoration-color: #00af00\">72,957</span> (284.99 KB)\n",
       "</pre>\n"
      ],
      "text/plain": [
       "\u001b[1m Total params: \u001b[0m\u001b[38;5;34m72,957\u001b[0m (284.99 KB)\n"
      ]
     },
     "metadata": {},
     "output_type": "display_data"
    },
    {
     "data": {
      "text/html": [
       "<pre style=\"white-space:pre;overflow-x:auto;line-height:normal;font-family:Menlo,'DejaVu Sans Mono',consolas,'Courier New',monospace\"><span style=\"font-weight: bold\"> Trainable params: </span><span style=\"color: #00af00; text-decoration-color: #00af00\">72,957</span> (284.99 KB)\n",
       "</pre>\n"
      ],
      "text/plain": [
       "\u001b[1m Trainable params: \u001b[0m\u001b[38;5;34m72,957\u001b[0m (284.99 KB)\n"
      ]
     },
     "metadata": {},
     "output_type": "display_data"
    },
    {
     "data": {
      "text/html": [
       "<pre style=\"white-space:pre;overflow-x:auto;line-height:normal;font-family:Menlo,'DejaVu Sans Mono',consolas,'Courier New',monospace\"><span style=\"font-weight: bold\"> Non-trainable params: </span><span style=\"color: #00af00; text-decoration-color: #00af00\">0</span> (0.00 B)\n",
       "</pre>\n"
      ],
      "text/plain": [
       "\u001b[1m Non-trainable params: \u001b[0m\u001b[38;5;34m0\u001b[0m (0.00 B)\n"
      ]
     },
     "metadata": {},
     "output_type": "display_data"
    },
    {
     "name": "stdout",
     "output_type": "stream",
     "text": [
      "None\n"
     ]
    }
   ],
   "source": [
    "\n",
    "print(model.summary())"
   ]
  },
  {
   "cell_type": "code",
   "execution_count": 18,
   "metadata": {},
   "outputs": [
    {
     "data": {
      "image/png": "[encoded data removed]",
      "text/plain": [
       "<Figure size 1200x800 with 2 Axes>"
      ]
     },
     "metadata": {},
     "output_type": "display_data"
    },
    {
     "name": "stdout",
     "output_type": "stream",
     "text": [
      "Loss\n",
      "\ttraining         \t (min:    0.037, max:    0.101, cur:    0.037)\n",
      "\tvalidation       \t (min:    0.054, max:    0.067, cur:    0.067)\n",
      "\u001b[1m40/40\u001b[0m \u001b[32m━━━━━━━━━━━━━━━━━━━━\u001b[0m\u001b[37m\u001b[0m \u001b[1m0s\u001b[0m 6ms/step\n",
      "(1249, 50) (1249, 50) (1249, 50) (1249, 50)\n",
      "decimeter error: 265.29027737362503\n",
      "\u001b[1m32/32\u001b[0m \u001b[32m━━━━━━━━━━━━━━━━━━━━\u001b[0m\u001b[37m\u001b[0m \u001b[1m1s\u001b[0m 39ms/step - loss: 0.0373 - val_loss: 0.0671\n",
      "Epoch 7/100\n",
      "\u001b[1m13/32\u001b[0m \u001b[32m━━━━━━━━\u001b[0m\u001b[37m━━━━━━━━━━━━\u001b[0m \u001b[1m0s\u001b[0m 20ms/step - loss: 0.0344"
     ]
    },
    {
     "ename": "KeyboardInterrupt",
     "evalue": "",
     "output_type": "error",
     "traceback": [
      "\u001b[1;31m---------------------------------------------------------------------------\u001b[0m",
      "\u001b[1;31mKeyboardInterrupt\u001b[0m                         Traceback (most recent call last)",
      "Cell \u001b[1;32mIn[18], line 5\u001b[0m\n\u001b[0;32m      1\u001b[0m \u001b[38;5;28;01mfrom\u001b[39;00m \u001b[38;5;21;01mlivelossplot\u001b[39;00m \u001b[38;5;28;01mimport\u001b[39;00m PlotLossesKeras\n\u001b[0;32m      4\u001b[0m \u001b[38;5;66;03m# train the model\u001b[39;00m\n\u001b[1;32m----> 5\u001b[0m history \u001b[38;5;241m=\u001b[39m \u001b[43mmodel\u001b[49m\u001b[38;5;241;43m.\u001b[39;49m\u001b[43mfit\u001b[49m\u001b[43m(\u001b[49m\u001b[43mtrain_input_data_padded_normalized\u001b[49m\u001b[43m,\u001b[49m\u001b[43m \u001b[49m\u001b[43mtrain_gt_data_padded_normalized\u001b[49m\u001b[43m,\u001b[49m\u001b[43m \u001b[49m\u001b[43mepochs\u001b[49m\u001b[38;5;241;43m=\u001b[39;49m\u001b[38;5;241;43m100\u001b[39;49m\u001b[43m,\u001b[49m\u001b[43m \u001b[49m\u001b[43mbatch_size\u001b[49m\u001b[38;5;241;43m=\u001b[39;49m\u001b[38;5;241;43m32\u001b[39;49m\u001b[43m,\u001b[49m\u001b[43m \u001b[49m\u001b[43mvalidation_split\u001b[49m\u001b[38;5;241;43m=\u001b[39;49m\u001b[38;5;241;43m0.2\u001b[39;49m\u001b[43m,\u001b[49m\u001b[43m \u001b[49m\u001b[43mcallbacks\u001b[49m\u001b[38;5;241;43m=\u001b[39;49m\u001b[43m[\u001b[49m\u001b[43mPlotLossesKeras\u001b[49m\u001b[43m(\u001b[49m\u001b[43m)\u001b[49m\u001b[43m,\u001b[49m\u001b[43m \u001b[49m\u001b[43mDecimeterError\u001b[49m\u001b[43m(\u001b[49m\u001b[43m)\u001b[49m\u001b[43m]\u001b[49m\u001b[43m)\u001b[49m\n",
      "File \u001b[1;32md:\\OneDrive\\Documents\\Uni\\Machine Learning in Mechanics\\GoogleDecimeterChallenge\\.venv\\Lib\\site-packages\\keras\\src\\utils\\traceback_utils.py:117\u001b[0m, in \u001b[0;36mfilter_traceback.<locals>.error_handler\u001b[1;34m(*args, **kwargs)\u001b[0m\n\u001b[0;32m    115\u001b[0m filtered_tb \u001b[38;5;241m=\u001b[39m \u001b[38;5;28;01mNone\u001b[39;00m\n\u001b[0;32m    116\u001b[0m \u001b[38;5;28;01mtry\u001b[39;00m:\n\u001b[1;32m--> 117\u001b[0m     \u001b[38;5;28;01mreturn\u001b[39;00m \u001b[43mfn\u001b[49m\u001b[43m(\u001b[49m\u001b[38;5;241;43m*\u001b[39;49m\u001b[43margs\u001b[49m\u001b[43m,\u001b[49m\u001b[43m \u001b[49m\u001b[38;5;241;43m*\u001b[39;49m\u001b[38;5;241;43m*\u001b[39;49m\u001b[43mkwargs\u001b[49m\u001b[43m)\u001b[49m\n\u001b[0;32m    118\u001b[0m \u001b[38;5;28;01mexcept\u001b[39;00m \u001b[38;5;167;01mException\u001b[39;00m \u001b[38;5;28;01mas\u001b[39;00m e:\n\u001b[0;32m    119\u001b[0m     filtered_tb \u001b[38;5;241m=\u001b[39m _process_traceback_frames(e\u001b[38;5;241m.\u001b[39m__traceback__)\n",
      "File \u001b[1;32md:\\OneDrive\\Documents\\Uni\\Machine Learning in Mechanics\\GoogleDecimeterChallenge\\.venv\\Lib\\site-packages\\keras\\src\\backend\\tensorflow\\trainer.py:318\u001b[0m, in \u001b[0;36mTensorFlowTrainer.fit\u001b[1;34m(self, x, y, batch_size, epochs, verbose, callbacks, validation_split, validation_data, shuffle, class_weight, sample_weight, initial_epoch, steps_per_epoch, validation_steps, validation_batch_size, validation_freq)\u001b[0m\n\u001b[0;32m    316\u001b[0m \u001b[38;5;28;01mfor\u001b[39;00m step, iterator \u001b[38;5;129;01min\u001b[39;00m epoch_iterator\u001b[38;5;241m.\u001b[39menumerate_epoch():\n\u001b[0;32m    317\u001b[0m     callbacks\u001b[38;5;241m.\u001b[39mon_train_batch_begin(step)\n\u001b[1;32m--> 318\u001b[0m     logs \u001b[38;5;241m=\u001b[39m \u001b[38;5;28;43mself\u001b[39;49m\u001b[38;5;241;43m.\u001b[39;49m\u001b[43mtrain_function\u001b[49m\u001b[43m(\u001b[49m\u001b[43miterator\u001b[49m\u001b[43m)\u001b[49m\n\u001b[0;32m    319\u001b[0m     logs \u001b[38;5;241m=\u001b[39m \u001b[38;5;28mself\u001b[39m\u001b[38;5;241m.\u001b[39m_pythonify_logs(logs)\n\u001b[0;32m    320\u001b[0m     callbacks\u001b[38;5;241m.\u001b[39mon_train_batch_end(step, logs)\n",
      "File \u001b[1;32md:\\OneDrive\\Documents\\Uni\\Machine Learning in Mechanics\\GoogleDecimeterChallenge\\.venv\\Lib\\site-packages\\tensorflow\\python\\util\\traceback_utils.py:150\u001b[0m, in \u001b[0;36mfilter_traceback.<locals>.error_handler\u001b[1;34m(*args, **kwargs)\u001b[0m\n\u001b[0;32m    148\u001b[0m filtered_tb \u001b[38;5;241m=\u001b[39m \u001b[38;5;28;01mNone\u001b[39;00m\n\u001b[0;32m    149\u001b[0m \u001b[38;5;28;01mtry\u001b[39;00m:\n\u001b[1;32m--> 150\u001b[0m   \u001b[38;5;28;01mreturn\u001b[39;00m \u001b[43mfn\u001b[49m\u001b[43m(\u001b[49m\u001b[38;5;241;43m*\u001b[39;49m\u001b[43margs\u001b[49m\u001b[43m,\u001b[49m\u001b[43m \u001b[49m\u001b[38;5;241;43m*\u001b[39;49m\u001b[38;5;241;43m*\u001b[39;49m\u001b[43mkwargs\u001b[49m\u001b[43m)\u001b[49m\n\u001b[0;32m    151\u001b[0m \u001b[38;5;28;01mexcept\u001b[39;00m \u001b[38;5;167;01mException\u001b[39;00m \u001b[38;5;28;01mas\u001b[39;00m e:\n\u001b[0;32m    152\u001b[0m   filtered_tb \u001b[38;5;241m=\u001b[39m _process_traceback_frames(e\u001b[38;5;241m.\u001b[39m__traceback__)\n",
      "File \u001b[1;32md:\\OneDrive\\Documents\\Uni\\Machine Learning in Mechanics\\GoogleDecimeterChallenge\\.venv\\Lib\\site-packages\\tensorflow\\python\\eager\\polymorphic_function\\polymorphic_function.py:833\u001b[0m, in \u001b[0;36mFunction.__call__\u001b[1;34m(self, *args, **kwds)\u001b[0m\n\u001b[0;32m    830\u001b[0m compiler \u001b[38;5;241m=\u001b[39m \u001b[38;5;124m\"\u001b[39m\u001b[38;5;124mxla\u001b[39m\u001b[38;5;124m\"\u001b[39m \u001b[38;5;28;01mif\u001b[39;00m \u001b[38;5;28mself\u001b[39m\u001b[38;5;241m.\u001b[39m_jit_compile \u001b[38;5;28;01melse\u001b[39;00m \u001b[38;5;124m\"\u001b[39m\u001b[38;5;124mnonXla\u001b[39m\u001b[38;5;124m\"\u001b[39m\n\u001b[0;32m    832\u001b[0m \u001b[38;5;28;01mwith\u001b[39;00m OptionalXlaContext(\u001b[38;5;28mself\u001b[39m\u001b[38;5;241m.\u001b[39m_jit_compile):\n\u001b[1;32m--> 833\u001b[0m   result \u001b[38;5;241m=\u001b[39m \u001b[38;5;28;43mself\u001b[39;49m\u001b[38;5;241;43m.\u001b[39;49m\u001b[43m_call\u001b[49m\u001b[43m(\u001b[49m\u001b[38;5;241;43m*\u001b[39;49m\u001b[43margs\u001b[49m\u001b[43m,\u001b[49m\u001b[43m \u001b[49m\u001b[38;5;241;43m*\u001b[39;49m\u001b[38;5;241;43m*\u001b[39;49m\u001b[43mkwds\u001b[49m\u001b[43m)\u001b[49m\n\u001b[0;32m    835\u001b[0m new_tracing_count \u001b[38;5;241m=\u001b[39m \u001b[38;5;28mself\u001b[39m\u001b[38;5;241m.\u001b[39mexperimental_get_tracing_count()\n\u001b[0;32m    836\u001b[0m without_tracing \u001b[38;5;241m=\u001b[39m (tracing_count \u001b[38;5;241m==\u001b[39m new_tracing_count)\n",
      "File \u001b[1;32md:\\OneDrive\\Documents\\Uni\\Machine Learning in Mechanics\\GoogleDecimeterChallenge\\.venv\\Lib\\site-packages\\tensorflow\\python\\eager\\polymorphic_function\\polymorphic_function.py:878\u001b[0m, in \u001b[0;36mFunction._call\u001b[1;34m(self, *args, **kwds)\u001b[0m\n\u001b[0;32m    875\u001b[0m \u001b[38;5;28mself\u001b[39m\u001b[38;5;241m.\u001b[39m_lock\u001b[38;5;241m.\u001b[39mrelease()\n\u001b[0;32m    876\u001b[0m \u001b[38;5;66;03m# In this case we have not created variables on the first call. So we can\u001b[39;00m\n\u001b[0;32m    877\u001b[0m \u001b[38;5;66;03m# run the first trace but we should fail if variables are created.\u001b[39;00m\n\u001b[1;32m--> 878\u001b[0m results \u001b[38;5;241m=\u001b[39m \u001b[43mtracing_compilation\u001b[49m\u001b[38;5;241;43m.\u001b[39;49m\u001b[43mcall_function\u001b[49m\u001b[43m(\u001b[49m\n\u001b[0;32m    879\u001b[0m \u001b[43m    \u001b[49m\u001b[43margs\u001b[49m\u001b[43m,\u001b[49m\u001b[43m \u001b[49m\u001b[43mkwds\u001b[49m\u001b[43m,\u001b[49m\u001b[43m \u001b[49m\u001b[38;5;28;43mself\u001b[39;49m\u001b[38;5;241;43m.\u001b[39;49m\u001b[43m_variable_creation_config\u001b[49m\n\u001b[0;32m    880\u001b[0m \u001b[43m\u001b[49m\u001b[43m)\u001b[49m\n\u001b[0;32m    881\u001b[0m \u001b[38;5;28;01mif\u001b[39;00m \u001b[38;5;28mself\u001b[39m\u001b[38;5;241m.\u001b[39m_created_variables:\n\u001b[0;32m    882\u001b[0m   \u001b[38;5;28;01mraise\u001b[39;00m \u001b[38;5;167;01mValueError\u001b[39;00m(\u001b[38;5;124m\"\u001b[39m\u001b[38;5;124mCreating variables on a non-first call to a function\u001b[39m\u001b[38;5;124m\"\u001b[39m\n\u001b[0;32m    883\u001b[0m                    \u001b[38;5;124m\"\u001b[39m\u001b[38;5;124m decorated with tf.function.\u001b[39m\u001b[38;5;124m\"\u001b[39m)\n",
      "File \u001b[1;32md:\\OneDrive\\Documents\\Uni\\Machine Learning in Mechanics\\GoogleDecimeterChallenge\\.venv\\Lib\\site-packages\\tensorflow\\python\\eager\\polymorphic_function\\tracing_compilation.py:139\u001b[0m, in \u001b[0;36mcall_function\u001b[1;34m(args, kwargs, tracing_options)\u001b[0m\n\u001b[0;32m    137\u001b[0m bound_args \u001b[38;5;241m=\u001b[39m function\u001b[38;5;241m.\u001b[39mfunction_type\u001b[38;5;241m.\u001b[39mbind(\u001b[38;5;241m*\u001b[39margs, \u001b[38;5;241m*\u001b[39m\u001b[38;5;241m*\u001b[39mkwargs)\n\u001b[0;32m    138\u001b[0m flat_inputs \u001b[38;5;241m=\u001b[39m function\u001b[38;5;241m.\u001b[39mfunction_type\u001b[38;5;241m.\u001b[39munpack_inputs(bound_args)\n\u001b[1;32m--> 139\u001b[0m \u001b[38;5;28;01mreturn\u001b[39;00m \u001b[43mfunction\u001b[49m\u001b[38;5;241;43m.\u001b[39;49m\u001b[43m_call_flat\u001b[49m\u001b[43m(\u001b[49m\u001b[43m  \u001b[49m\u001b[38;5;66;43;03m# pylint: disable=protected-access\u001b[39;49;00m\n\u001b[0;32m    140\u001b[0m \u001b[43m    \u001b[49m\u001b[43mflat_inputs\u001b[49m\u001b[43m,\u001b[49m\u001b[43m \u001b[49m\u001b[43mcaptured_inputs\u001b[49m\u001b[38;5;241;43m=\u001b[39;49m\u001b[43mfunction\u001b[49m\u001b[38;5;241;43m.\u001b[39;49m\u001b[43mcaptured_inputs\u001b[49m\n\u001b[0;32m    141\u001b[0m \u001b[43m\u001b[49m\u001b[43m)\u001b[49m\n",
      "File \u001b[1;32md:\\OneDrive\\Documents\\Uni\\Machine Learning in Mechanics\\GoogleDecimeterChallenge\\.venv\\Lib\\site-packages\\tensorflow\\python\\eager\\polymorphic_function\\concrete_function.py:1322\u001b[0m, in \u001b[0;36mConcreteFunction._call_flat\u001b[1;34m(self, tensor_inputs, captured_inputs)\u001b[0m\n\u001b[0;32m   1318\u001b[0m possible_gradient_type \u001b[38;5;241m=\u001b[39m gradients_util\u001b[38;5;241m.\u001b[39mPossibleTapeGradientTypes(args)\n\u001b[0;32m   1319\u001b[0m \u001b[38;5;28;01mif\u001b[39;00m (possible_gradient_type \u001b[38;5;241m==\u001b[39m gradients_util\u001b[38;5;241m.\u001b[39mPOSSIBLE_GRADIENT_TYPES_NONE\n\u001b[0;32m   1320\u001b[0m     \u001b[38;5;129;01mand\u001b[39;00m executing_eagerly):\n\u001b[0;32m   1321\u001b[0m   \u001b[38;5;66;03m# No tape is watching; skip to running the function.\u001b[39;00m\n\u001b[1;32m-> 1322\u001b[0m   \u001b[38;5;28;01mreturn\u001b[39;00m \u001b[38;5;28;43mself\u001b[39;49m\u001b[38;5;241;43m.\u001b[39;49m\u001b[43m_inference_function\u001b[49m\u001b[38;5;241;43m.\u001b[39;49m\u001b[43mcall_preflattened\u001b[49m\u001b[43m(\u001b[49m\u001b[43margs\u001b[49m\u001b[43m)\u001b[49m\n\u001b[0;32m   1323\u001b[0m forward_backward \u001b[38;5;241m=\u001b[39m \u001b[38;5;28mself\u001b[39m\u001b[38;5;241m.\u001b[39m_select_forward_and_backward_functions(\n\u001b[0;32m   1324\u001b[0m     args,\n\u001b[0;32m   1325\u001b[0m     possible_gradient_type,\n\u001b[0;32m   1326\u001b[0m     executing_eagerly)\n\u001b[0;32m   1327\u001b[0m forward_function, args_with_tangents \u001b[38;5;241m=\u001b[39m forward_backward\u001b[38;5;241m.\u001b[39mforward()\n",
      "File \u001b[1;32md:\\OneDrive\\Documents\\Uni\\Machine Learning in Mechanics\\GoogleDecimeterChallenge\\.venv\\Lib\\site-packages\\tensorflow\\python\\eager\\polymorphic_function\\atomic_function.py:216\u001b[0m, in \u001b[0;36mAtomicFunction.call_preflattened\u001b[1;34m(self, args)\u001b[0m\n\u001b[0;32m    214\u001b[0m \u001b[38;5;28;01mdef\u001b[39;00m \u001b[38;5;21mcall_preflattened\u001b[39m(\u001b[38;5;28mself\u001b[39m, args: Sequence[core\u001b[38;5;241m.\u001b[39mTensor]) \u001b[38;5;241m-\u001b[39m\u001b[38;5;241m>\u001b[39m Any:\n\u001b[0;32m    215\u001b[0m \u001b[38;5;250m  \u001b[39m\u001b[38;5;124;03m\"\"\"Calls with flattened tensor inputs and returns the structured output.\"\"\"\u001b[39;00m\n\u001b[1;32m--> 216\u001b[0m   flat_outputs \u001b[38;5;241m=\u001b[39m \u001b[38;5;28;43mself\u001b[39;49m\u001b[38;5;241;43m.\u001b[39;49m\u001b[43mcall_flat\u001b[49m\u001b[43m(\u001b[49m\u001b[38;5;241;43m*\u001b[39;49m\u001b[43margs\u001b[49m\u001b[43m)\u001b[49m\n\u001b[0;32m    217\u001b[0m   \u001b[38;5;28;01mreturn\u001b[39;00m \u001b[38;5;28mself\u001b[39m\u001b[38;5;241m.\u001b[39mfunction_type\u001b[38;5;241m.\u001b[39mpack_output(flat_outputs)\n",
      "File \u001b[1;32md:\\OneDrive\\Documents\\Uni\\Machine Learning in Mechanics\\GoogleDecimeterChallenge\\.venv\\Lib\\site-packages\\tensorflow\\python\\eager\\polymorphic_function\\atomic_function.py:251\u001b[0m, in \u001b[0;36mAtomicFunction.call_flat\u001b[1;34m(self, *args)\u001b[0m\n\u001b[0;32m    249\u001b[0m \u001b[38;5;28;01mwith\u001b[39;00m record\u001b[38;5;241m.\u001b[39mstop_recording():\n\u001b[0;32m    250\u001b[0m   \u001b[38;5;28;01mif\u001b[39;00m \u001b[38;5;28mself\u001b[39m\u001b[38;5;241m.\u001b[39m_bound_context\u001b[38;5;241m.\u001b[39mexecuting_eagerly():\n\u001b[1;32m--> 251\u001b[0m     outputs \u001b[38;5;241m=\u001b[39m \u001b[38;5;28;43mself\u001b[39;49m\u001b[38;5;241;43m.\u001b[39;49m\u001b[43m_bound_context\u001b[49m\u001b[38;5;241;43m.\u001b[39;49m\u001b[43mcall_function\u001b[49m\u001b[43m(\u001b[49m\n\u001b[0;32m    252\u001b[0m \u001b[43m        \u001b[49m\u001b[38;5;28;43mself\u001b[39;49m\u001b[38;5;241;43m.\u001b[39;49m\u001b[43mname\u001b[49m\u001b[43m,\u001b[49m\n\u001b[0;32m    253\u001b[0m \u001b[43m        \u001b[49m\u001b[38;5;28;43mlist\u001b[39;49m\u001b[43m(\u001b[49m\u001b[43margs\u001b[49m\u001b[43m)\u001b[49m\u001b[43m,\u001b[49m\n\u001b[0;32m    254\u001b[0m \u001b[43m        \u001b[49m\u001b[38;5;28;43mlen\u001b[39;49m\u001b[43m(\u001b[49m\u001b[38;5;28;43mself\u001b[39;49m\u001b[38;5;241;43m.\u001b[39;49m\u001b[43mfunction_type\u001b[49m\u001b[38;5;241;43m.\u001b[39;49m\u001b[43mflat_outputs\u001b[49m\u001b[43m)\u001b[49m\u001b[43m,\u001b[49m\n\u001b[0;32m    255\u001b[0m \u001b[43m    \u001b[49m\u001b[43m)\u001b[49m\n\u001b[0;32m    256\u001b[0m   \u001b[38;5;28;01melse\u001b[39;00m:\n\u001b[0;32m    257\u001b[0m     outputs \u001b[38;5;241m=\u001b[39m make_call_op_in_graph(\n\u001b[0;32m    258\u001b[0m         \u001b[38;5;28mself\u001b[39m,\n\u001b[0;32m    259\u001b[0m         \u001b[38;5;28mlist\u001b[39m(args),\n\u001b[0;32m    260\u001b[0m         \u001b[38;5;28mself\u001b[39m\u001b[38;5;241m.\u001b[39m_bound_context\u001b[38;5;241m.\u001b[39mfunction_call_options\u001b[38;5;241m.\u001b[39mas_attrs(),\n\u001b[0;32m    261\u001b[0m     )\n",
      "File \u001b[1;32md:\\OneDrive\\Documents\\Uni\\Machine Learning in Mechanics\\GoogleDecimeterChallenge\\.venv\\Lib\\site-packages\\tensorflow\\python\\eager\\context.py:1500\u001b[0m, in \u001b[0;36mContext.call_function\u001b[1;34m(self, name, tensor_inputs, num_outputs)\u001b[0m\n\u001b[0;32m   1498\u001b[0m cancellation_context \u001b[38;5;241m=\u001b[39m cancellation\u001b[38;5;241m.\u001b[39mcontext()\n\u001b[0;32m   1499\u001b[0m \u001b[38;5;28;01mif\u001b[39;00m cancellation_context \u001b[38;5;129;01mis\u001b[39;00m \u001b[38;5;28;01mNone\u001b[39;00m:\n\u001b[1;32m-> 1500\u001b[0m   outputs \u001b[38;5;241m=\u001b[39m \u001b[43mexecute\u001b[49m\u001b[38;5;241;43m.\u001b[39;49m\u001b[43mexecute\u001b[49m\u001b[43m(\u001b[49m\n\u001b[0;32m   1501\u001b[0m \u001b[43m      \u001b[49m\u001b[43mname\u001b[49m\u001b[38;5;241;43m.\u001b[39;49m\u001b[43mdecode\u001b[49m\u001b[43m(\u001b[49m\u001b[38;5;124;43m\"\u001b[39;49m\u001b[38;5;124;43mutf-8\u001b[39;49m\u001b[38;5;124;43m\"\u001b[39;49m\u001b[43m)\u001b[49m\u001b[43m,\u001b[49m\n\u001b[0;32m   1502\u001b[0m \u001b[43m      \u001b[49m\u001b[43mnum_outputs\u001b[49m\u001b[38;5;241;43m=\u001b[39;49m\u001b[43mnum_outputs\u001b[49m\u001b[43m,\u001b[49m\n\u001b[0;32m   1503\u001b[0m \u001b[43m      \u001b[49m\u001b[43minputs\u001b[49m\u001b[38;5;241;43m=\u001b[39;49m\u001b[43mtensor_inputs\u001b[49m\u001b[43m,\u001b[49m\n\u001b[0;32m   1504\u001b[0m \u001b[43m      \u001b[49m\u001b[43mattrs\u001b[49m\u001b[38;5;241;43m=\u001b[39;49m\u001b[43mattrs\u001b[49m\u001b[43m,\u001b[49m\n\u001b[0;32m   1505\u001b[0m \u001b[43m      \u001b[49m\u001b[43mctx\u001b[49m\u001b[38;5;241;43m=\u001b[39;49m\u001b[38;5;28;43mself\u001b[39;49m\u001b[43m,\u001b[49m\n\u001b[0;32m   1506\u001b[0m \u001b[43m  \u001b[49m\u001b[43m)\u001b[49m\n\u001b[0;32m   1507\u001b[0m \u001b[38;5;28;01melse\u001b[39;00m:\n\u001b[0;32m   1508\u001b[0m   outputs \u001b[38;5;241m=\u001b[39m execute\u001b[38;5;241m.\u001b[39mexecute_with_cancellation(\n\u001b[0;32m   1509\u001b[0m       name\u001b[38;5;241m.\u001b[39mdecode(\u001b[38;5;124m\"\u001b[39m\u001b[38;5;124mutf-8\u001b[39m\u001b[38;5;124m\"\u001b[39m),\n\u001b[0;32m   1510\u001b[0m       num_outputs\u001b[38;5;241m=\u001b[39mnum_outputs,\n\u001b[1;32m   (...)\u001b[0m\n\u001b[0;32m   1514\u001b[0m       cancellation_manager\u001b[38;5;241m=\u001b[39mcancellation_context,\n\u001b[0;32m   1515\u001b[0m   )\n",
      "File \u001b[1;32md:\\OneDrive\\Documents\\Uni\\Machine Learning in Mechanics\\GoogleDecimeterChallenge\\.venv\\Lib\\site-packages\\tensorflow\\python\\eager\\execute.py:53\u001b[0m, in \u001b[0;36mquick_execute\u001b[1;34m(op_name, num_outputs, inputs, attrs, ctx, name)\u001b[0m\n\u001b[0;32m     51\u001b[0m \u001b[38;5;28;01mtry\u001b[39;00m:\n\u001b[0;32m     52\u001b[0m   ctx\u001b[38;5;241m.\u001b[39mensure_initialized()\n\u001b[1;32m---> 53\u001b[0m   tensors \u001b[38;5;241m=\u001b[39m \u001b[43mpywrap_tfe\u001b[49m\u001b[38;5;241;43m.\u001b[39;49m\u001b[43mTFE_Py_Execute\u001b[49m\u001b[43m(\u001b[49m\u001b[43mctx\u001b[49m\u001b[38;5;241;43m.\u001b[39;49m\u001b[43m_handle\u001b[49m\u001b[43m,\u001b[49m\u001b[43m \u001b[49m\u001b[43mdevice_name\u001b[49m\u001b[43m,\u001b[49m\u001b[43m \u001b[49m\u001b[43mop_name\u001b[49m\u001b[43m,\u001b[49m\n\u001b[0;32m     54\u001b[0m \u001b[43m                                      \u001b[49m\u001b[43minputs\u001b[49m\u001b[43m,\u001b[49m\u001b[43m \u001b[49m\u001b[43mattrs\u001b[49m\u001b[43m,\u001b[49m\u001b[43m \u001b[49m\u001b[43mnum_outputs\u001b[49m\u001b[43m)\u001b[49m\n\u001b[0;32m     55\u001b[0m \u001b[38;5;28;01mexcept\u001b[39;00m core\u001b[38;5;241m.\u001b[39m_NotOkStatusException \u001b[38;5;28;01mas\u001b[39;00m e:\n\u001b[0;32m     56\u001b[0m   \u001b[38;5;28;01mif\u001b[39;00m name \u001b[38;5;129;01mis\u001b[39;00m \u001b[38;5;129;01mnot\u001b[39;00m \u001b[38;5;28;01mNone\u001b[39;00m:\n",
      "\u001b[1;31mKeyboardInterrupt\u001b[0m: "
     ]
    }
   ],
   "source": [
    "from livelossplot import PlotLossesKeras\n",
    "\n",
    "\n",
    "# train the model\n",
    "history = model.fit(train_input_data_padded_normalized, train_gt_data_padded_normalized, epochs=100, batch_size=32, validation_split=0.2, callbacks=[PlotLossesKeras(), DecimeterError()])\n",
    "\n"
   ]
  },
  {
   "cell_type": "code",
   "execution_count": 12,
   "metadata": {},
   "outputs": [
    {
     "name": "stdout",
     "output_type": "stream",
     "text": [
      "\u001b[1m1/1\u001b[0m \u001b[32m━━━━━━━━━━━━━━━━━━━━\u001b[0m\u001b[37m\u001b[0m \u001b[1m0s\u001b[0m 16ms/step\n",
      "[[ 3.75865974e+01 -1.22329926e+02 -2.93883286e+01  7.91503048e+00\n",
      "   8.23022649e-02  1.29313766e+02  1.59304660e+12]\n",
      " [ 3.75869980e+01 -1.22329979e+02 -2.93160439e+01  8.77297211e+00\n",
      "   7.20181242e-02  1.43518570e+02  1.59304660e+12]\n",
      " [ 3.75872383e+01 -1.22330002e+02 -2.92903080e+01  7.30015421e+00\n",
      "   6.39279634e-02  1.44048553e+02  1.59304660e+12]\n",
      " [ 3.75874214e+01 -1.22329842e+02 -2.92051907e+01  5.65490294e+00\n",
      "   6.80344999e-02  2.17125854e+02  1.59304660e+12]\n",
      " [ 3.75874672e+01 -1.22329781e+02 -2.91781330e+01  3.76105714e+00\n",
      "   7.53549635e-02  2.79636688e+02  1.59304660e+12]\n",
      " [ 3.75874214e+01 -1.22329803e+02 -2.91944885e+01  2.20890951e+00\n",
      "   7.78426230e-02  2.97802887e+02  1.59304660e+12]\n",
      " [ 3.75873680e+01 -1.22329819e+02 -2.92160263e+01  2.06228280e+00\n",
      "   8.22711289e-02  3.12295532e+02  1.59304660e+12]\n",
      " [ 3.75873070e+01 -1.22329842e+02 -2.92232800e+01  3.13249898e+00\n",
      "   8.79704952e-02  3.17573151e+02  1.59304660e+12]\n",
      " [ 3.75872650e+01 -1.22329803e+02 -2.91907139e+01  4.44811440e+00\n",
      "   9.50353146e-02  3.12257538e+02  1.59304660e+12]\n",
      " [ 3.75872040e+01 -1.22329781e+02 -2.91795368e+01  6.07346678e+00\n",
      "   9.86894369e-02  2.92920288e+02  1.59304660e+12]\n",
      " [ 3.75871964e+01 -1.22329781e+02 -2.91591187e+01  7.52377844e+00\n",
      "   9.58520323e-02  2.73237549e+02  1.59304660e+12]\n",
      " [ 3.75871964e+01 -1.22329803e+02 -2.91450996e+01  8.36462688e+00\n",
      "   9.18500870e-02  2.69577606e+02  1.59304660e+12]\n",
      " [ 3.75872231e+01 -1.22329819e+02 -2.91440029e+01  9.07426167e+00\n",
      "   9.06570852e-02  2.72280609e+02  1.59304660e+12]\n",
      " [ 3.75873070e+01 -1.22329849e+02 -2.91518307e+01  1.00365782e+01\n",
      "   9.45075452e-02  2.75696350e+02  1.59304660e+12]\n",
      " [ 3.75872383e+01 -1.22329964e+02 -2.92178440e+01  9.87525749e+00\n",
      "   7.94323832e-02  2.33911362e+02  1.59304660e+12]\n",
      " [ 3.75872993e+01 -1.22329933e+02 -2.91834583e+01  1.06023884e+01\n",
      "   8.47473294e-02  2.41812332e+02  1.59304660e+12]\n",
      " [ 3.75872841e+01 -1.22329956e+02 -2.91746044e+01  1.08035431e+01\n",
      "   8.73918533e-02  2.52115173e+02  1.59304660e+12]\n",
      " [ 3.75872955e+01 -1.22329964e+02 -2.91720314e+01  1.08726044e+01\n",
      "   9.06789601e-02  2.61953491e+02  1.59304660e+12]\n",
      " [ 3.75873222e+01 -1.22330002e+02 -2.91811199e+01  1.11680355e+01\n",
      "   9.61066335e-02  2.61199127e+02  1.59304660e+12]\n",
      " [ 3.75873070e+01 -1.22330040e+02 -2.91629639e+01  1.14870129e+01\n",
      "   9.43224132e-02  2.60804413e+02  1.59304660e+12]\n",
      " [ 3.75872879e+01 -1.22330093e+02 -2.91864414e+01  1.21176825e+01\n",
      "   9.88206565e-02  2.49104507e+02  1.59304660e+12]\n",
      " [ 3.75873184e+01 -1.22330132e+02 -2.92345657e+01  1.23014431e+01\n",
      "   9.75263417e-02  2.53299026e+02  1.59304660e+12]\n",
      " [ 3.75873604e+01 -1.22330185e+02 -2.92966251e+01  1.19177990e+01\n",
      "   9.51688141e-02  2.60857666e+02  1.59304660e+12]\n",
      " [ 3.75873604e+01 -1.22330238e+02 -2.93572674e+01  1.16997213e+01\n",
      "   9.44464654e-02  2.55626785e+02  1.59304660e+12]\n",
      " [ 3.75873718e+01 -1.22330276e+02 -2.94069118e+01  1.18600597e+01\n",
      "   9.62610394e-02  2.45870651e+02  1.59304660e+12]\n",
      " [ 3.75873756e+01 -1.22330315e+02 -2.94448967e+01  1.20571785e+01\n",
      "   9.60615128e-02  2.35745941e+02  1.59304660e+12]\n",
      " [ 3.75873375e+01 -1.22330368e+02 -2.94916763e+01  1.20810061e+01\n",
      "   9.85699743e-02  2.28228683e+02  1.59304660e+12]\n",
      " [ 3.75873146e+01 -1.22330391e+02 -2.94815159e+01  1.19606533e+01\n",
      "   1.03384703e-01  2.35933701e+02  1.59304660e+12]\n",
      " [ 3.75873184e+01 -1.22330421e+02 -2.94760303e+01  1.16842909e+01\n",
      "   1.03541166e-01  2.41807648e+02  1.59304660e+12]\n",
      " [ 3.75873260e+01 -1.22330467e+02 -2.94959126e+01  1.16407089e+01\n",
      "   9.59868580e-02  2.47851654e+02  1.59304660e+12]\n",
      " [ 3.75872650e+01 -1.22330544e+02 -2.95001087e+01  1.14118090e+01\n",
      "   9.73065197e-02  2.27893250e+02  1.59304660e+12]\n",
      " [ 3.75872765e+01 -1.22330582e+02 -2.94987125e+01  1.12774363e+01\n",
      "   9.06982124e-02  2.17470917e+02  1.59304660e+12]\n",
      " [ 3.75872765e+01 -1.22330635e+02 -2.95026684e+01  1.10553093e+01\n",
      "   9.11324024e-02  1.92980453e+02  1.59304660e+12]\n",
      " [ 3.75872688e+01 -1.22330666e+02 -2.94894333e+01  1.07204342e+01\n",
      "   9.65421200e-02  1.98152695e+02  1.59304660e+12]\n",
      " [ 3.75872650e+01 -1.22330673e+02 -2.94703922e+01  1.01131382e+01\n",
      "   1.00372136e-01  2.07197632e+02  1.59304660e+12]\n",
      " [ 3.75872688e+01 -1.22330696e+02 -2.94446468e+01  9.40085983e+00\n",
      "   1.01978421e-01  2.29893417e+02  1.59304660e+12]\n",
      " [ 3.75872459e+01 -1.22330711e+02 -2.94336205e+01  8.56125546e+00\n",
      "   1.07754484e-01  2.63220093e+02  1.59304660e+12]\n",
      " [ 3.75872269e+01 -1.22330795e+02 -2.94614754e+01  6.99262857e+00\n",
      "   1.07474461e-01  2.38736755e+02  1.59304660e+12]\n",
      " [ 3.75872612e+01 -1.22330811e+02 -2.94730110e+01  6.16997194e+00\n",
      "   1.07846543e-01  2.39873947e+02  1.59304660e+12]\n",
      " [ 3.75872383e+01 -1.22330826e+02 -2.95013218e+01  4.89588165e+00\n",
      "   1.07674927e-01  2.56679443e+02  1.59304660e+12]\n",
      " [ 3.75871964e+01 -1.22330872e+02 -2.95246086e+01  4.23545742e+00\n",
      "   1.07001632e-01  2.48923782e+02  1.59304660e+12]\n",
      " [ 3.75872002e+01 -1.22330872e+02 -2.95491486e+01  4.03610897e+00\n",
      "   1.09229937e-01  1.97232224e+02  1.59304660e+12]\n",
      " [ 3.75871544e+01 -1.22330887e+02 -2.95460434e+01  4.00772476e+00\n",
      "   1.06842011e-01  1.40292542e+02  1.59304660e+12]\n",
      " [ 3.75870743e+01 -1.22330902e+02 -2.95519009e+01  4.75905752e+00\n",
      "   1.07768387e-01  8.21044006e+01  1.59304660e+12]\n",
      " [ 3.75870247e+01 -1.22330917e+02 -2.95804710e+01  5.76778173e+00\n",
      "   1.03842244e-01  5.34382095e+01  1.59304660e+12]\n",
      " [ 3.75869331e+01 -1.22330933e+02 -2.95784817e+01  7.25792742e+00\n",
      "   1.01393327e-01  2.68601780e+01  1.59304660e+12]\n",
      " [ 3.75868340e+01 -1.22330902e+02 -2.96084461e+01  8.72065163e+00\n",
      "   1.09598279e-01  1.92605247e+01  1.59304660e+12]\n",
      " [ 3.75867653e+01 -1.22330933e+02 -2.96292610e+01  9.46959686e+00\n",
      "   1.03619471e-01 -1.32352459e+00  1.59304660e+12]\n",
      " [ 3.75866890e+01 -1.22330933e+02 -2.96190891e+01  1.01325703e+01\n",
      "   9.78420824e-02 -1.90775471e+01  1.59304660e+12]\n",
      " [ 3.75865974e+01 -1.22330925e+02 -2.96486607e+01  1.04856224e+01\n",
      "   1.10879898e-01 -8.83430958e+00  1.59304660e+12]]\n",
      "(50, 7)\n"
     ]
    }
   ],
   "source": [
    "prediction = gt_scaler.inverse_transform(model.predict(train_input_data_padded_normalized[0:1])[0])\n",
    "print(prediction)\n",
    "print(prediction.shape)\n"
   ]
  },
  {
   "cell_type": "code",
   "execution_count": null,
   "metadata": {},
   "outputs": [],
   "source": []
  }
 ],
 "metadata": {
  "kernelspec": {
   "display_name": ".venv",
   "language": "python",
   "name": "python3"
  },
  "language_info": {
   "codemirror_mode": {
    "name": "ipython",
    "version": 3
   },
   "file_extension": ".py",
   "mimetype": "text/x-python",
   "name": "python",
   "nbconvert_exporter": "python",
   "pygments_lexer": "ipython3",
   "version": "3.11.6"
  }
 },
 "nbformat": 4,
 "nbformat_minor": 2
}
